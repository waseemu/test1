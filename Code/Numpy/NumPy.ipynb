{
 "cells": [
  {
   "cell_type": "markdown",
   "metadata": {
    "colab_type": "text",
    "id": "ID0CWUaMbz5D"
   },
   "source": [
    "# Introducing NumPy\n"
   ]
  },
  {
   "cell_type": "markdown",
   "metadata": {
    "colab_type": "text",
    "id": "p0sGrGQIbz5F"
   },
   "source": [
    "Python is convenient, but it can also be slow. However, it does allow us to access libraries that execute faster code written in languages like C. NumPy is one such library: it provides **fast alternatives to math operations in Python** and is designed to work efficiently with groups of numbers - like matrices.\n",
    "NumPy is a large library and we are only going to scratch the surface of it here."
   ]
  },
  {
   "cell_type": "markdown",
   "metadata": {
    "colab_type": "text",
    "id": "D6bWujOVbz5F"
   },
   "source": [
    "This hands on tutorial includes the following: <br>\n",
    "- #### Data Types and Shapes\n",
    "    -  Scalar <br>\n",
    "    -  Vectors <br>\n",
    "    -  Matrices <br>\n",
    "    - Tensors <br>\n",
    "    - Changing shapes* <br>\n",
    "    - Commonly used initializations <br>\n",
    "- #### Element wise operation\n",
    "    -  The Python way <br>\n",
    "    -  The NumPy way <br>\n",
    "    -  Element-wise Matrix Operations <br>\n",
    "- #### NumPy Matrix Multiplication\n",
    "    -  Element-wise Multiplication <br>\n",
    "    -  Matrix Product <br>\n",
    "    -  NumPys ```dot``` function <br>\n",
    "    -  Transpose <br>\n",
    "    -  A real use case <br>\n",
    "- #### Sorting, Subsetting, Slicing, Splitting and Indexing"
   ]
  },
  {
   "cell_type": "markdown",
   "metadata": {
    "colab_type": "text",
    "id": "mhqgFbh0bz5G"
   },
   "source": [
    "### Importing NumPy"
   ]
  },
  {
   "cell_type": "markdown",
   "metadata": {
    "colab_type": "text",
    "id": "cPV40n7Abz5H"
   },
   "source": [
    "When importing the NumPy library, the convention we'll see used most often – including here – is to name it ```np```, like so:"
   ]
  },
  {
   "cell_type": "code",
   "execution_count": 226,
   "metadata": {
    "colab": {},
    "colab_type": "code",
    "id": "AMUdmGAGbz5H"
   },
   "outputs": [],
   "source": [
    "import numpy as np"
   ]
  },
  {
   "cell_type": "code",
   "execution_count": 227,
   "metadata": {},
   "outputs": [
    {
     "name": "stdout",
     "output_type": "stream",
     "text": [
      "5\n"
     ]
    }
   ],
   "source": [
    "x = np.array(5)\n",
    "print(x)"
   ]
  },
  {
   "cell_type": "markdown",
   "metadata": {
    "colab_type": "text",
    "id": "Z5uTTchWbz5K"
   },
   "source": [
    "Now we can use the library by prefixing the names of functions and types with ```np.```, which we'll see in the following examples."
   ]
  },
  {
   "cell_type": "markdown",
   "metadata": {
    "colab_type": "text",
    "id": "ix7LSHIJbz5L"
   },
   "source": [
    "### Data Types and Shapes"
   ]
  },
  {
   "cell_type": "markdown",
   "metadata": {
    "colab_type": "text",
    "id": "8vSPR3txbz5M"
   },
   "source": [
    "The most common way to work with numbers in NumPy is through ```ndarray``` objects. They are similar to Python lists, but can have any number of dimensions. Also, ```ndarray``` supports fast math operations, which is just what we want. <br>\n",
    "Since it can store any number of dimensions, we can use ```ndarray```'s to represent any of the data types: **scalars**, **vectors**, **matrices**, or **tensors**."
   ]
  },
  {
   "cell_type": "markdown",
   "metadata": {
    "colab_type": "text",
    "id": "VaEj6RaLbz5M"
   },
   "source": [
    "### Scalars"
   ]
  },
  {
   "cell_type": "markdown",
   "metadata": {
    "colab_type": "text",
    "id": "FBPXqQKHbz5N"
   },
   "source": [
    "Scalars in NumPy are a bit more involved than in Python. Instead of Python’s basic types like ```int```, ```float```, etc., NumPy lets we specify signed and unsigned types, as well as different sizes. So instead of Python’s ```int```, we have access to types like ```uint8```, ```int8```, ```uint16```, ```int16```, and so on. <br>\n",
    "These types are important because every object we make (vectors, matrices, tensors) eventually stores scalars. And when we create a NumPy array, we can specify the type - but **every item in the array must have the same type**. In this regard, NumPy arrays are more like C arrays than Python **lists**."
   ]
  },
  {
   "cell_type": "markdown",
   "metadata": {
    "colab_type": "text",
    "id": "puKmYLkJbz5O"
   },
   "source": [
    "If we want to create a NumPy array that holds a scalar, we can do so by passing the value to NumPy's array function, like so:"
   ]
  },
  {
   "cell_type": "code",
   "execution_count": 228,
   "metadata": {
    "colab": {},
    "colab_type": "code",
    "id": "XQw9ZZIIbz5O",
    "scrolled": false
   },
   "outputs": [
    {
     "name": "stdout",
     "output_type": "stream",
     "text": [
      "5\n"
     ]
    }
   ],
   "source": [
    "s = np.array(5)\n",
    "print (s)"
   ]
  },
  {
   "cell_type": "code",
   "execution_count": 229,
   "metadata": {
    "scrolled": false
   },
   "outputs": [
    {
     "name": "stdout",
     "output_type": "stream",
     "text": [
      "<class 'numpy.ndarray'>\n"
     ]
    }
   ],
   "source": [
    "print(type(s))"
   ]
  },
  {
   "cell_type": "code",
   "execution_count": 230,
   "metadata": {},
   "outputs": [
    {
     "data": {
      "text/plain": [
       "dtype('int64')"
      ]
     },
     "execution_count": 230,
     "metadata": {},
     "output_type": "execute_result"
    }
   ],
   "source": [
    "s.dtype"
   ]
  },
  {
   "cell_type": "markdown",
   "metadata": {
    "colab_type": "text",
    "id": "hpza8bmqbz5R"
   },
   "source": [
    "We can see the shape of our arrays by checking their ```shape``` attribute. So if we executed this code:"
   ]
  },
  {
   "cell_type": "code",
   "execution_count": 231,
   "metadata": {
    "colab": {},
    "colab_type": "code",
    "id": "-g6Kgj-Gbz5S"
   },
   "outputs": [
    {
     "name": "stdout",
     "output_type": "stream",
     "text": [
      "()\n"
     ]
    }
   ],
   "source": [
    "print(s.shape)"
   ]
  },
  {
   "cell_type": "markdown",
   "metadata": {
    "colab_type": "text",
    "id": "NeeM-wFybz5W"
   },
   "source": [
    "Here, this empty pair of parenthesis, ```()``` indicates that it has zero dimensions."
   ]
  },
  {
   "cell_type": "markdown",
   "metadata": {
    "colab_type": "text",
    "id": "SryoTt9Zbz5X"
   },
   "source": [
    "Even though scalars are inside arrays, we still use them like a normal scalar. So we could type:"
   ]
  },
  {
   "cell_type": "code",
   "execution_count": 232,
   "metadata": {
    "colab": {},
    "colab_type": "code",
    "id": "gvkICrrgbz5X"
   },
   "outputs": [
    {
     "name": "stdout",
     "output_type": "stream",
     "text": [
      "8\n"
     ]
    }
   ],
   "source": [
    "x = 3  + s \n",
    "print(x)"
   ]
  },
  {
   "cell_type": "code",
   "execution_count": 233,
   "metadata": {},
   "outputs": [
    {
     "name": "stdout",
     "output_type": "stream",
     "text": [
      "<class 'numpy.int64'>\n"
     ]
    }
   ],
   "source": [
    "print(type(x))"
   ]
  },
  {
   "cell_type": "code",
   "execution_count": 234,
   "metadata": {},
   "outputs": [
    {
     "data": {
      "text/plain": [
       "dtype('int64')"
      ]
     },
     "execution_count": 234,
     "metadata": {},
     "output_type": "execute_result"
    }
   ],
   "source": [
    "x.dtype"
   ]
  },
  {
   "cell_type": "markdown",
   "metadata": {
    "colab_type": "text",
    "id": "Ni5KVzWkbz5Z"
   },
   "source": [
    "If we were to check the type of x, we'd find it is probably ```numpy.int64```, because its working with NumPy types, not Python types."
   ]
  },
  {
   "cell_type": "markdown",
   "metadata": {
    "colab_type": "text",
    "id": "1N7ZdbIobz5d"
   },
   "source": [
    "Even scalar types support most of the array functions. so we can call ```x.shape``` and it would return ```()``` because it has zero dimensions, even though it is not an array. If we tried that with a normal Python scalar, we'd get an error."
   ]
  },
  {
   "cell_type": "code",
   "execution_count": 11,
   "metadata": {
    "colab": {},
    "colab_type": "code",
    "id": "gHvTGqakbz5d"
   },
   "outputs": [
    {
     "name": "stdout",
     "output_type": "stream",
     "text": [
      "()\n"
     ]
    },
    {
     "ename": "AttributeError",
     "evalue": "'int' object has no attribute 'shape'",
     "output_type": "error",
     "traceback": [
      "\u001b[0;31m---------------------------------------------------------------------------\u001b[0m",
      "\u001b[0;31mAttributeError\u001b[0m                            Traceback (most recent call last)",
      "\u001b[0;32m/var/folders/jl/_v82_5_s125cv1wqs0ymhvc80000gn/T/ipykernel_51169/1744661558.py\u001b[0m in \u001b[0;36m<module>\u001b[0;34m\u001b[0m\n\u001b[1;32m      3\u001b[0m \u001b[0mx\u001b[0m \u001b[0;34m=\u001b[0m \u001b[0;36m8\u001b[0m\u001b[0;34m\u001b[0m\u001b[0;34m\u001b[0m\u001b[0m\n\u001b[1;32m      4\u001b[0m \u001b[0;34m\u001b[0m\u001b[0m\n\u001b[0;32m----> 5\u001b[0;31m \u001b[0mprint\u001b[0m\u001b[0;34m(\u001b[0m\u001b[0mx\u001b[0m\u001b[0;34m.\u001b[0m\u001b[0mshape\u001b[0m\u001b[0;34m)\u001b[0m\u001b[0;34m\u001b[0m\u001b[0;34m\u001b[0m\u001b[0m\n\u001b[0m",
      "\u001b[0;31mAttributeError\u001b[0m: 'int' object has no attribute 'shape'"
     ]
    }
   ],
   "source": [
    "print(x.shape)\n",
    "\n",
    "x = 8\n",
    "\n",
    "print(x.shape)"
   ]
  },
  {
   "cell_type": "markdown",
   "metadata": {
    "colab_type": "text",
    "id": "oxqA1qshbz5g"
   },
   "source": [
    "### Vectors"
   ]
  },
  {
   "cell_type": "markdown",
   "metadata": {
    "colab_type": "text",
    "id": "CS_UQpZcbz5h"
   },
   "source": [
    "To create a vector, we'd pass a Python list to the array function, like this:"
   ]
  },
  {
   "cell_type": "code",
   "execution_count": 235,
   "metadata": {
    "colab": {},
    "colab_type": "code",
    "id": "mHzMWtptbz5i"
   },
   "outputs": [
    {
     "name": "stdout",
     "output_type": "stream",
     "text": [
      "[1 2 3]\n"
     ]
    }
   ],
   "source": [
    "v = np.array([1,2,3])\n",
    "print (v)"
   ]
  },
  {
   "cell_type": "markdown",
   "metadata": {
    "colab_type": "text",
    "id": "N2KymqaFbz5k"
   },
   "source": [
    "If we check a vector's shape attribute, it will return a single number representing the vector's one-dimensional length."
   ]
  },
  {
   "cell_type": "code",
   "execution_count": 236,
   "metadata": {
    "colab": {},
    "colab_type": "code",
    "id": "lG0zvfCYbz5k"
   },
   "outputs": [
    {
     "name": "stdout",
     "output_type": "stream",
     "text": [
      "(3,)\n"
     ]
    }
   ],
   "source": [
    "print(v.shape)"
   ]
  },
  {
   "cell_type": "markdown",
   "metadata": {
    "colab_type": "text",
    "id": "UbU13P4wbz5m"
   },
   "source": [
    "Now that there is a number, we can see that the shape is a tuple with the sizes of each of the ```ndarray```'s dimensions. For scalars it was just an empty tuple, but vectors have one dimension, so the tuple includes a number and a comma. <br>\n",
    "Python doesn’t understand ```(3)``` as a tuple with one item, so it requires the comma."
   ]
  },
  {
   "cell_type": "markdown",
   "metadata": {
    "colab_type": "text",
    "id": "6Gy9MUBxbz5n"
   },
   "source": [
    "We can access an element within the vector using indices, like this:"
   ]
  },
  {
   "cell_type": "code",
   "execution_count": 237,
   "metadata": {
    "colab": {},
    "colab_type": "code",
    "id": "FpBbpJgVbz5n"
   },
   "outputs": [
    {
     "name": "stdout",
     "output_type": "stream",
     "text": [
      "2\n"
     ]
    }
   ],
   "source": [
    "x = v[1]\n",
    "print(x)"
   ]
  },
  {
   "cell_type": "markdown",
   "metadata": {
    "colab_type": "text",
    "id": "GVUlx0IKbz5p"
   },
   "source": [
    "NumPy also supports advanced indexing techniques. For example, to access the items from the second element onward, we would say:"
   ]
  },
  {
   "cell_type": "code",
   "execution_count": 238,
   "metadata": {
    "colab": {},
    "colab_type": "code",
    "id": "0HvFSge2bz5q",
    "scrolled": true
   },
   "outputs": [
    {
     "name": "stdout",
     "output_type": "stream",
     "text": [
      "[2 3]\n",
      "\n",
      "\n",
      "[1 2]\n"
     ]
    }
   ],
   "source": [
    "print(v[1:])\n",
    "print('\\n')\n",
    "print(v[:2])"
   ]
  },
  {
   "cell_type": "markdown",
   "metadata": {
    "colab_type": "text",
    "id": "ti0wE0Blbz5s"
   },
   "source": [
    "### Matrices"
   ]
  },
  {
   "cell_type": "markdown",
   "metadata": {
    "colab_type": "text",
    "id": "1QtTaJzfbz5s"
   },
   "source": [
    "We can create matrices using NumPy's array function, similar to that of vectors. However, instead of just passing in a list, we need to supply a list of lists, where each list represents a row. So to create a 3x3 matrix containing the numbers one through nine, we could do this:\n"
   ]
  },
  {
   "cell_type": "code",
   "execution_count": 241,
   "metadata": {},
   "outputs": [
    {
     "data": {
      "text/plain": [
       "[[1, 2, 3], [4, 5, 6], [7, 8, 9]]"
      ]
     },
     "execution_count": 241,
     "metadata": {},
     "output_type": "execute_result"
    }
   ],
   "source": [
    "[[1,2,3],\n",
    "[4,5,6],\n",
    "[7,8,9]]"
   ]
  },
  {
   "cell_type": "code",
   "execution_count": 242,
   "metadata": {
    "colab": {},
    "colab_type": "code",
    "id": "VbQ2hsZxbz5t"
   },
   "outputs": [
    {
     "name": "stdout",
     "output_type": "stream",
     "text": [
      "m = \n",
      " [[1 2 3]\n",
      " [4 5 6]\n",
      " [7 8 9]] \n",
      "\n",
      "m.shape:  (3, 3)\n"
     ]
    }
   ],
   "source": [
    "m = np.array([[1,2,3],[4,5,6],[7,8,9]])\n",
    "m\n",
    "print(\"m = \\n\",m, '\\n' )\n",
    "print(\"m.shape: \",m.shape)"
   ]
  },
  {
   "cell_type": "markdown",
   "metadata": {
    "colab_type": "text",
    "id": "mVdioihCbz5w"
   },
   "source": [
    "```m``` is thus a ```(3, 3)``` tuple. This indicates that it has two dimensions, each of size 3.\n",
    "We can access elements of matrices just like vectors, but using additional index values. So to find the number 6 in the above matrix, we'd access"
   ]
  },
  {
   "cell_type": "code",
   "execution_count": 29,
   "metadata": {
    "colab": {},
    "colab_type": "code",
    "id": "0RUCJW6Pbz5w"
   },
   "outputs": [
    {
     "name": "stdout",
     "output_type": "stream",
     "text": [
      "6\n"
     ]
    }
   ],
   "source": [
    "print(m[1][2])"
   ]
  },
  {
   "cell_type": "markdown",
   "metadata": {
    "colab_type": "text",
    "id": "ddzviZNHbz5y"
   },
   "source": [
    "Doing the same with a list will give an error:"
   ]
  },
  {
   "cell_type": "code",
   "execution_count": null,
   "metadata": {},
   "outputs": [],
   "source": []
  },
  {
   "cell_type": "code",
   "execution_count": 30,
   "metadata": {
    "colab": {},
    "colab_type": "code",
    "id": "gW6NqYbkbz5z"
   },
   "outputs": [
    {
     "name": "stdout",
     "output_type": "stream",
     "text": [
      "m = \n",
      " [[1, 2, 3], [4, 5, 6], [7, 8, 9]]\n"
     ]
    },
    {
     "ename": "AttributeError",
     "evalue": "'list' object has no attribute 'shape'",
     "output_type": "error",
     "traceback": [
      "\u001b[0;31m---------------------------------------------------------------------------\u001b[0m",
      "\u001b[0;31mAttributeError\u001b[0m                            Traceback (most recent call last)",
      "\u001b[0;32m/var/folders/jl/_v82_5_s125cv1wqs0ymhvc80000gn/T/ipykernel_51169/321834952.py\u001b[0m in \u001b[0;36m<module>\u001b[0;34m\u001b[0m\n\u001b[1;32m      1\u001b[0m \u001b[0mm\u001b[0m \u001b[0;34m=\u001b[0m \u001b[0;34m[\u001b[0m\u001b[0;34m[\u001b[0m\u001b[0;36m1\u001b[0m\u001b[0;34m,\u001b[0m\u001b[0;36m2\u001b[0m\u001b[0;34m,\u001b[0m\u001b[0;36m3\u001b[0m\u001b[0;34m]\u001b[0m\u001b[0;34m,\u001b[0m \u001b[0;34m[\u001b[0m\u001b[0;36m4\u001b[0m\u001b[0;34m,\u001b[0m\u001b[0;36m5\u001b[0m\u001b[0;34m,\u001b[0m\u001b[0;36m6\u001b[0m\u001b[0;34m]\u001b[0m\u001b[0;34m,\u001b[0m \u001b[0;34m[\u001b[0m\u001b[0;36m7\u001b[0m\u001b[0;34m,\u001b[0m\u001b[0;36m8\u001b[0m\u001b[0;34m,\u001b[0m\u001b[0;36m9\u001b[0m\u001b[0;34m]\u001b[0m\u001b[0;34m]\u001b[0m\u001b[0;34m\u001b[0m\u001b[0;34m\u001b[0m\u001b[0m\n\u001b[1;32m      2\u001b[0m \u001b[0mprint\u001b[0m\u001b[0;34m(\u001b[0m\u001b[0;34m\"m = \\n\"\u001b[0m\u001b[0;34m,\u001b[0m\u001b[0mm\u001b[0m\u001b[0;34m)\u001b[0m\u001b[0;34m\u001b[0m\u001b[0;34m\u001b[0m\u001b[0m\n\u001b[0;32m----> 3\u001b[0;31m \u001b[0mprint\u001b[0m\u001b[0;34m(\u001b[0m\u001b[0;34m\"m.shape: \"\u001b[0m\u001b[0;34m,\u001b[0m\u001b[0mm\u001b[0m\u001b[0;34m.\u001b[0m\u001b[0mshape\u001b[0m\u001b[0;34m)\u001b[0m\u001b[0;34m\u001b[0m\u001b[0;34m\u001b[0m\u001b[0m\n\u001b[0m",
      "\u001b[0;31mAttributeError\u001b[0m: 'list' object has no attribute 'shape'"
     ]
    }
   ],
   "source": [
    "m = [[1,2,3], [4,5,6], [7,8,9]]\n",
    "print(\"m = \\n\",m)\n",
    "print(\"m.shape: \",m.shape)"
   ]
  },
  {
   "cell_type": "markdown",
   "metadata": {
    "colab_type": "text",
    "id": "KvNyvCDNbz52"
   },
   "source": [
    "But, each element can be selected via the same method:"
   ]
  },
  {
   "cell_type": "code",
   "execution_count": 25,
   "metadata": {
    "colab": {},
    "colab_type": "code",
    "id": "qytkzhJSbz54"
   },
   "outputs": [
    {
     "name": "stdout",
     "output_type": "stream",
     "text": [
      "6\n"
     ]
    }
   ],
   "source": [
    "print(m[1][2])"
   ]
  },
  {
   "cell_type": "markdown",
   "metadata": {
    "colab_type": "text",
    "id": "Ef38Ahlubz57"
   },
   "source": [
    "### Tensors"
   ]
  },
  {
   "cell_type": "markdown",
   "metadata": {
    "colab_type": "text",
    "id": "isJJ8GKbbz57"
   },
   "source": [
    "Tensors are just like vectors and matrices, **but they can have more dimensions**. For example, to create a 3x3x2x1 tensor, we could do the following:"
   ]
  },
  {
   "cell_type": "code",
   "execution_count": 26,
   "metadata": {
    "colab": {},
    "colab_type": "code",
    "id": "iAxxqGugbz58"
   },
   "outputs": [
    {
     "data": {
      "text/plain": [
       "array([[[[ 1],\n",
       "         [ 2]],\n",
       "\n",
       "        [[ 3],\n",
       "         [ 4]],\n",
       "\n",
       "        [[ 5],\n",
       "         [ 6]]],\n",
       "\n",
       "\n",
       "       [[[ 7],\n",
       "         [ 8]],\n",
       "\n",
       "        [[ 9],\n",
       "         [10]],\n",
       "\n",
       "        [[11],\n",
       "         [12]]],\n",
       "\n",
       "\n",
       "       [[[13],\n",
       "         [14]],\n",
       "\n",
       "        [[15],\n",
       "         [16]],\n",
       "\n",
       "        [[17],\n",
       "         [18]]]])"
      ]
     },
     "execution_count": 26,
     "metadata": {},
     "output_type": "execute_result"
    }
   ],
   "source": [
    "t = np.array([[[[1],[2]],[[3],[4]],[[5],[6]]],\\\n",
    "              [[[7],[8]],[[9],[10]],[[11],[12]]], \\\n",
    "              [[[13],[14]],[[15],[16]],[[17],[18]]]])\n",
    "t"
   ]
  },
  {
   "cell_type": "code",
   "execution_count": 35,
   "metadata": {},
   "outputs": [
    {
     "data": {
      "text/plain": [
       "(2, 2, 2, 2)"
      ]
     },
     "execution_count": 35,
     "metadata": {},
     "output_type": "execute_result"
    }
   ],
   "source": [
    "np.array([ [[[1,1],[1,1]], [[1,1],[1,1]]], [[[1,1],[1,1]], [[1,1],[1,1]]]\n",
    "    \n",
    "]).shape"
   ]
  },
  {
   "cell_type": "code",
   "execution_count": 44,
   "metadata": {},
   "outputs": [
    {
     "data": {
      "text/plain": [
       "12"
      ]
     },
     "execution_count": 44,
     "metadata": {},
     "output_type": "execute_result"
    }
   ],
   "source": [
    "t[1][2][1][0]"
   ]
  },
  {
   "cell_type": "markdown",
   "metadata": {
    "colab_type": "text",
    "id": "9KK5w8M_bz5-"
   },
   "source": [
    "And ```t.shape``` would return "
   ]
  },
  {
   "cell_type": "code",
   "execution_count": 36,
   "metadata": {
    "colab": {},
    "colab_type": "code",
    "id": "XxmsoCg0bz5-"
   },
   "outputs": [
    {
     "name": "stdout",
     "output_type": "stream",
     "text": [
      "(3, 3, 2, 1)\n"
     ]
    }
   ],
   "source": [
    "print(t.shape)"
   ]
  },
  {
   "cell_type": "code",
   "execution_count": null,
   "metadata": {},
   "outputs": [],
   "source": []
  },
  {
   "cell_type": "markdown",
   "metadata": {
    "colab_type": "text",
    "id": "kPPKFwW7bz6A"
   },
   "source": [
    "We can access items just like with matrices, but with more indices. So ```t[2][1][1][0]``` will return"
   ]
  },
  {
   "cell_type": "code",
   "execution_count": 37,
   "metadata": {
    "colab": {},
    "colab_type": "code",
    "id": "QJUxkYEKbz6B"
   },
   "outputs": [
    {
     "name": "stdout",
     "output_type": "stream",
     "text": [
      "16\n"
     ]
    }
   ],
   "source": [
    "print(t[2][1][1][0])"
   ]
  },
  {
   "cell_type": "markdown",
   "metadata": {
    "colab_type": "text",
    "id": "Wlz7d_Thbz6D"
   },
   "source": [
    "There is also a function called ```size``` which returns the total number of elements in an array. So for ```t```"
   ]
  },
  {
   "cell_type": "code",
   "execution_count": 38,
   "metadata": {
    "colab": {},
    "colab_type": "code",
    "id": "geoSUtCTbz6E"
   },
   "outputs": [
    {
     "name": "stdout",
     "output_type": "stream",
     "text": [
      "18\n"
     ]
    }
   ],
   "source": [
    "print(t.size)"
   ]
  },
  {
   "cell_type": "markdown",
   "metadata": {
    "colab_type": "text",
    "id": "l78fTl5Cbz6F"
   },
   "source": [
    "And we can clearly see from the figure above that the total number of elements in ```t``` are, as a matter of fact, 18."
   ]
  },
  {
   "cell_type": "code",
   "execution_count": null,
   "metadata": {},
   "outputs": [],
   "source": [
    "# Task:\n",
    "# Make an array of all 1's which returns the shape as follows:\n",
    "# shape = (4,4,3,3,2,1)"
   ]
  },
  {
   "cell_type": "code",
   "execution_count": null,
   "metadata": {},
   "outputs": [],
   "source": []
  },
  {
   "cell_type": "markdown",
   "metadata": {
    "colab_type": "text",
    "id": "waV5mWBtbz6G"
   },
   "source": [
    "### Changing Shapes <br>\n",
    "Sometimes we'll need to change the shape of our data without actually changing its contents. For example, we may have a vector, which is one-dimensional, but need a matrix, which is two-dimensional. There are two ways we can do that."
   ]
  },
  {
   "cell_type": "markdown",
   "metadata": {
    "colab_type": "text",
    "id": "-iIWw-3cbz6H"
   },
   "source": [
    "Let's say we have the following vector:"
   ]
  },
  {
   "cell_type": "code",
   "execution_count": 291,
   "metadata": {
    "colab": {},
    "colab_type": "code",
    "id": "F9NxrKyybz6H"
   },
   "outputs": [],
   "source": [
    "v = np.array([1,\n",
    "              2,\n",
    "              3,\n",
    "              4])"
   ]
  },
  {
   "cell_type": "markdown",
   "metadata": {
    "colab_type": "text",
    "id": "OIcwOjhEbz6K"
   },
   "source": [
    "Calling v.shape would return "
   ]
  },
  {
   "cell_type": "code",
   "execution_count": 292,
   "metadata": {
    "colab": {},
    "colab_type": "code",
    "id": "GugATEg3bz6L"
   },
   "outputs": [
    {
     "name": "stdout",
     "output_type": "stream",
     "text": [
      "(4,)\n"
     ]
    }
   ],
   "source": [
    "print(v.shape)"
   ]
  },
  {
   "cell_type": "code",
   "execution_count": 293,
   "metadata": {},
   "outputs": [
    {
     "name": "stdout",
     "output_type": "stream",
     "text": [
      "[1 2 3 4]\n"
     ]
    }
   ],
   "source": [
    "print(v)"
   ]
  },
  {
   "cell_type": "code",
   "execution_count": 294,
   "metadata": {},
   "outputs": [
    {
     "name": "stdout",
     "output_type": "stream",
     "text": [
      "[[1 2]\n",
      " [3 4]]\n"
     ]
    }
   ],
   "source": [
    "new  = v.reshape(2,2)\n",
    "print(new)"
   ]
  },
  {
   "cell_type": "markdown",
   "metadata": {
    "colab_type": "text",
    "id": "kqDE6D6Wbz6N"
   },
   "source": [
    "But what if we want a 1x4 matrix? We can accomplish that with the reshape function, like so:"
   ]
  },
  {
   "cell_type": "code",
   "execution_count": 295,
   "metadata": {
    "colab": {},
    "colab_type": "code",
    "id": "O19fGU7cbz6N"
   },
   "outputs": [],
   "source": [
    "x = v.reshape(1,4)"
   ]
  },
  {
   "cell_type": "code",
   "execution_count": 296,
   "metadata": {},
   "outputs": [
    {
     "data": {
      "text/plain": [
       "array([[1, 2, 3, 4]])"
      ]
     },
     "execution_count": 296,
     "metadata": {},
     "output_type": "execute_result"
    }
   ],
   "source": [
    "x"
   ]
  },
  {
   "cell_type": "code",
   "execution_count": 297,
   "metadata": {},
   "outputs": [
    {
     "data": {
      "text/plain": [
       "(4, 1)"
      ]
     },
     "execution_count": 297,
     "metadata": {},
     "output_type": "execute_result"
    }
   ],
   "source": [
    "y=v.reshape(-1,1)\n",
    "y.shape"
   ]
  },
  {
   "cell_type": "markdown",
   "metadata": {
    "colab_type": "text",
    "id": "Wb9IZFtdbz6P"
   },
   "source": [
    "Calling x.shape would return "
   ]
  },
  {
   "cell_type": "code",
   "execution_count": 298,
   "metadata": {
    "colab": {},
    "colab_type": "code",
    "id": "dMAB4l9xbz6Q",
    "scrolled": true
   },
   "outputs": [
    {
     "name": "stdout",
     "output_type": "stream",
     "text": [
      "(1, 4)\n"
     ]
    }
   ],
   "source": [
    "print(x.shape)"
   ]
  },
  {
   "cell_type": "code",
   "execution_count": 299,
   "metadata": {
    "colab": {},
    "colab_type": "code",
    "id": "lJmxSIEBbz6R"
   },
   "outputs": [
    {
     "name": "stdout",
     "output_type": "stream",
     "text": [
      "[[1 2 3 4]]\n"
     ]
    }
   ],
   "source": [
    "print(x)"
   ]
  },
  {
   "cell_type": "markdown",
   "metadata": {
    "colab_type": "text",
    "id": "Kirnq-ASbz6T"
   },
   "source": [
    "Now, If we wanted a 4x1 matrix, we could do this:"
   ]
  },
  {
   "cell_type": "code",
   "execution_count": 300,
   "metadata": {
    "colab": {},
    "colab_type": "code",
    "id": "LXg-rroTbz6U"
   },
   "outputs": [
    {
     "name": "stdout",
     "output_type": "stream",
     "text": [
      "(4, 1)\n",
      "[[1]\n",
      " [2]\n",
      " [3]\n",
      " [4]]\n"
     ]
    }
   ],
   "source": [
    "x = v.reshape(4,1)\n",
    "print(x.shape)\n",
    "print(x)"
   ]
  },
  {
   "cell_type": "markdown",
   "metadata": {
    "colab_type": "text",
    "id": "yBlhqxvvbz6W"
   },
   "source": [
    "For a 2x2 matrix:"
   ]
  },
  {
   "cell_type": "code",
   "execution_count": 301,
   "metadata": {
    "colab": {},
    "colab_type": "code",
    "id": "iKgx1stgbz6X"
   },
   "outputs": [
    {
     "name": "stdout",
     "output_type": "stream",
     "text": [
      "(2, 2)\n",
      "[[1 2]\n",
      " [3 4]]\n"
     ]
    }
   ],
   "source": [
    "x = v.reshape(2,2)\n",
    "print(x.shape)\n",
    "print(x)"
   ]
  },
  {
   "cell_type": "markdown",
   "metadata": {
    "colab_type": "text",
    "id": "SvR7_4mNbz6Z"
   },
   "source": [
    "One more thing about reshaping NumPy arrays: if we see code from experienced NumPy users, we will often see them use a special slicing syntax instead of calling reshape. Using this syntax, the previous two examples would look like this:"
   ]
  },
  {
   "cell_type": "code",
   "execution_count": 303,
   "metadata": {},
   "outputs": [
    {
     "data": {
      "text/plain": [
       "(array([1, 2, 3, 4]), (4,))"
      ]
     },
     "execution_count": 303,
     "metadata": {},
     "output_type": "execute_result"
    }
   ],
   "source": [
    "v, v.shape"
   ]
  },
  {
   "cell_type": "code",
   "execution_count": 304,
   "metadata": {},
   "outputs": [
    {
     "data": {
      "text/plain": [
       "(array([[1, 2, 3, 4]]), (1, 4))"
      ]
     },
     "execution_count": 304,
     "metadata": {},
     "output_type": "execute_result"
    }
   ],
   "source": [
    "v[None,:], v[None,:].shape"
   ]
  },
  {
   "cell_type": "code",
   "execution_count": 306,
   "metadata": {},
   "outputs": [
    {
     "data": {
      "text/plain": [
       "(array([[1],\n",
       "        [2],\n",
       "        [3],\n",
       "        [4]]),\n",
       " (4, 1))"
      ]
     },
     "execution_count": 306,
     "metadata": {},
     "output_type": "execute_result"
    }
   ],
   "source": [
    "v[:, None], v[:, None].shape"
   ]
  },
  {
   "cell_type": "code",
   "execution_count": 267,
   "metadata": {
    "colab": {},
    "colab_type": "code",
    "id": "i6X2i2lUbz6Z"
   },
   "outputs": [
    {
     "name": "stdout",
     "output_type": "stream",
     "text": [
      "(1, 4)\n"
     ]
    }
   ],
   "source": [
    "x = v[None, :]\n",
    "print(x.shape)"
   ]
  },
  {
   "cell_type": "code",
   "execution_count": 312,
   "metadata": {},
   "outputs": [
    {
     "data": {
      "text/plain": [
       "(1, 4)"
      ]
     },
     "execution_count": 312,
     "metadata": {},
     "output_type": "execute_result"
    }
   ],
   "source": [
    "v.reshape(-1,4).shape"
   ]
  },
  {
   "cell_type": "code",
   "execution_count": 313,
   "metadata": {},
   "outputs": [
    {
     "data": {
      "text/plain": [
       "((2, 2),\n",
       " array([[1, 2],\n",
       "        [3, 4]]))"
      ]
     },
     "execution_count": 313,
     "metadata": {},
     "output_type": "execute_result"
    }
   ],
   "source": [
    "x.shape, x"
   ]
  },
  {
   "cell_type": "markdown",
   "metadata": {
    "colab_type": "text",
    "id": "NEglOQCubz6b"
   },
   "source": [
    "     or"
   ]
  },
  {
   "cell_type": "code",
   "execution_count": null,
   "metadata": {},
   "outputs": [],
   "source": []
  },
  {
   "cell_type": "code",
   "execution_count": 276,
   "metadata": {},
   "outputs": [
    {
     "data": {
      "text/plain": [
       "(array([[1, 2, 3, 4]]), (1, 4))"
      ]
     },
     "execution_count": 276,
     "metadata": {},
     "output_type": "execute_result"
    }
   ],
   "source": [
    "x.T, x.T.shape"
   ]
  },
  {
   "cell_type": "code",
   "execution_count": 273,
   "metadata": {},
   "outputs": [
    {
     "data": {
      "text/plain": [
       "(1, 4, 1)"
      ]
     },
     "execution_count": 273,
     "metadata": {},
     "output_type": "execute_result"
    }
   ],
   "source": [
    "x[None,:].shape"
   ]
  },
  {
   "cell_type": "code",
   "execution_count": 269,
   "metadata": {
    "colab": {},
    "colab_type": "code",
    "id": "jjGUgd5zbz6d"
   },
   "outputs": [
    {
     "name": "stdout",
     "output_type": "stream",
     "text": [
      "(4, 1)\n"
     ]
    }
   ],
   "source": [
    "x = v[:, None]\n",
    "print(x.shape)"
   ]
  },
  {
   "cell_type": "code",
   "execution_count": 254,
   "metadata": {},
   "outputs": [
    {
     "data": {
      "text/plain": [
       "array([ 8,  9, 10, 11, 12, 13, 14])"
      ]
     },
     "execution_count": 254,
     "metadata": {},
     "output_type": "execute_result"
    }
   ],
   "source": [
    "np.arange(8,15)"
   ]
  },
  {
   "cell_type": "code",
   "execution_count": 80,
   "metadata": {},
   "outputs": [
    {
     "data": {
      "text/plain": [
       "array([[1],\n",
       "       [2],\n",
       "       [3],\n",
       "       [4]])"
      ]
     },
     "execution_count": 80,
     "metadata": {},
     "output_type": "execute_result"
    }
   ],
   "source": [
    "x"
   ]
  },
  {
   "cell_type": "code",
   "execution_count": 57,
   "metadata": {},
   "outputs": [
    {
     "name": "stdout",
     "output_type": "stream",
     "text": [
      "[[2]\n",
      " [3]\n",
      " [4]] (3, 1)\n"
     ]
    }
   ],
   "source": [
    "x=v[1:,None]\n",
    "print(x,x.shape)"
   ]
  },
  {
   "cell_type": "code",
   "execution_count": 286,
   "metadata": {},
   "outputs": [
    {
     "data": {
      "text/plain": [
       "(2, 4)"
      ]
     },
     "execution_count": 286,
     "metadata": {},
     "output_type": "execute_result"
    }
   ],
   "source": [
    "c=np.array([[1,2,3,4], [5,6,7,8]])\n",
    "c.shape"
   ]
  },
  {
   "cell_type": "code",
   "execution_count": 281,
   "metadata": {},
   "outputs": [
    {
     "data": {
      "text/plain": [
       "(4, 2)"
      ]
     },
     "execution_count": 281,
     "metadata": {},
     "output_type": "execute_result"
    }
   ],
   "source": [
    "c.T.shape"
   ]
  },
  {
   "cell_type": "code",
   "execution_count": 287,
   "metadata": {},
   "outputs": [
    {
     "data": {
      "text/plain": [
       "(2, 4)"
      ]
     },
     "execution_count": 287,
     "metadata": {},
     "output_type": "execute_result"
    }
   ],
   "source": [
    "c[None:,].shape"
   ]
  },
  {
   "cell_type": "code",
   "execution_count": 290,
   "metadata": {},
   "outputs": [
    {
     "data": {
      "text/plain": [
       "(array([[[1, 2, 3, 4]],\n",
       " \n",
       "        [[5, 6, 7, 8]]]),\n",
       " (2, 1, 4))"
      ]
     },
     "execution_count": 290,
     "metadata": {},
     "output_type": "execute_result"
    }
   ],
   "source": [
    "c[:,None], c[:,None].shape"
   ]
  },
  {
   "cell_type": "markdown",
   "metadata": {
    "colab_type": "text",
    "id": "p2e2dalKbz6e"
   },
   "source": [
    "These lines create a slice that looks at all of the items of v but asks NumPy to add a new dimension of size 1 for the associated axis. It may look strange to us now, but it's a common technique so it's good to be aware of it."
   ]
  },
  {
   "cell_type": "markdown",
   "metadata": {
    "colab_type": "text",
    "id": "RxBDguS3bz6f"
   },
   "source": [
    "Now, let's suppose we have a matrix ```A```"
   ]
  },
  {
   "cell_type": "code",
   "execution_count": 314,
   "metadata": {
    "colab": {},
    "colab_type": "code",
    "id": "ARdy55t8bz6h"
   },
   "outputs": [
    {
     "name": "stdout",
     "output_type": "stream",
     "text": [
      "[[ 1  2  3  4]\n",
      " [ 5  6  7  8]\n",
      " [ 9 10 11 12]]\n"
     ]
    }
   ],
   "source": [
    "A = np.array([[1,2,3,4],[5,6,7,8],[9,10,11,12]])\n",
    "print(A)"
   ]
  },
  {
   "cell_type": "markdown",
   "metadata": {
    "colab_type": "text",
    "id": "45Cwdwrvbz6j"
   },
   "source": [
    "and we need to reshape it to a 2x6 matrix. We could do this:"
   ]
  },
  {
   "cell_type": "code",
   "execution_count": 315,
   "metadata": {
    "colab": {},
    "colab_type": "code",
    "id": "fuJ-WIr2bz6k"
   },
   "outputs": [
    {
     "name": "stdout",
     "output_type": "stream",
     "text": [
      "[[ 1  2  3  4  5  6]\n",
      " [ 7  8  9 10 11 12]]\n"
     ]
    }
   ],
   "source": [
    "x = A.reshape(2,6)\n",
    "print(x)"
   ]
  },
  {
   "cell_type": "markdown",
   "metadata": {
    "colab_type": "text",
    "id": "6Qo83GL8bz6o"
   },
   "source": [
    "And if we want to take the tensor ```t``` and reshape it to a 6x3 matrix, we can also do that"
   ]
  },
  {
   "cell_type": "code",
   "execution_count": 316,
   "metadata": {
    "colab": {},
    "colab_type": "code",
    "id": "AWII2-Jxbz6o"
   },
   "outputs": [
    {
     "name": "stdout",
     "output_type": "stream",
     "text": [
      "t.shape is  (3, 3, 2, 1) \n",
      "\n",
      "x = \n",
      " [[ 1  2  3]\n",
      " [ 4  5  6]\n",
      " [ 7  8  9]\n",
      " [10 11 12]\n",
      " [13 14 15]\n",
      " [16 17 18]]\n",
      "x.shape is  (6, 3) \n",
      "\n"
     ]
    }
   ],
   "source": [
    "t = np.array([[[[1],[2]],[[3],[4]],[[5],[6]]],[[[7],[8]],\\\n",
    "    [[9],[10]],[[11],[12]]],[[[13],[14]],[[15],[16]],[[17],[18]]]])\n",
    "print(\"t.shape is \",t.shape,\"\\n\")\n",
    "\n",
    "x = t.reshape(6,3)\n",
    "print(\"x = \\n\",x)\n",
    "print(\"x.shape is \",x.shape,\"\\n\")"
   ]
  },
  {
   "cell_type": "markdown",
   "metadata": {
    "colab_type": "text",
    "id": "AO5xEC9ybz6q"
   },
   "source": [
    "The thing to note here is that ```ndarray```'s can be shaped to any shape as long as the total number of tensor elements remain the same. For example"
   ]
  },
  {
   "cell_type": "code",
   "execution_count": 317,
   "metadata": {
    "colab": {},
    "colab_type": "code",
    "id": "C6HAKOR0bz6q"
   },
   "outputs": [
    {
     "name": "stdout",
     "output_type": "stream",
     "text": [
      "[[1 2 3]\n",
      " [4 5 6]\n",
      " [7 8 9]] \n",
      "\n",
      "Shape of m: (3, 3) \n",
      " Size of m:  9\n"
     ]
    },
    {
     "ename": "ValueError",
     "evalue": "cannot reshape array of size 9 into shape (2,4)",
     "output_type": "error",
     "traceback": [
      "\u001b[0;31m---------------------------------------------------------------------------\u001b[0m",
      "\u001b[0;31mValueError\u001b[0m                                Traceback (most recent call last)",
      "\u001b[0;32m/var/folders/jl/_v82_5_s125cv1wqs0ymhvc80000gn/T/ipykernel_51169/1155846711.py\u001b[0m in \u001b[0;36m<module>\u001b[0;34m\u001b[0m\n\u001b[1;32m      2\u001b[0m \u001b[0mprint\u001b[0m\u001b[0;34m(\u001b[0m\u001b[0mm\u001b[0m\u001b[0;34m,\u001b[0m \u001b[0;34m\"\\n\"\u001b[0m\u001b[0;34m)\u001b[0m\u001b[0;34m\u001b[0m\u001b[0;34m\u001b[0m\u001b[0m\n\u001b[1;32m      3\u001b[0m \u001b[0mprint\u001b[0m\u001b[0;34m(\u001b[0m\u001b[0;34m'Shape of m:'\u001b[0m \u001b[0;34m,\u001b[0m\u001b[0mm\u001b[0m\u001b[0;34m.\u001b[0m\u001b[0mshape\u001b[0m\u001b[0;34m,\u001b[0m \u001b[0;34m'\\n Size of m: '\u001b[0m\u001b[0;34m,\u001b[0m \u001b[0mm\u001b[0m\u001b[0;34m.\u001b[0m\u001b[0msize\u001b[0m\u001b[0;34m)\u001b[0m\u001b[0;34m\u001b[0m\u001b[0;34m\u001b[0m\u001b[0m\n\u001b[0;32m----> 4\u001b[0;31m \u001b[0mx\u001b[0m \u001b[0;34m=\u001b[0m \u001b[0mm\u001b[0m\u001b[0;34m.\u001b[0m\u001b[0mreshape\u001b[0m\u001b[0;34m(\u001b[0m\u001b[0;36m2\u001b[0m\u001b[0;34m,\u001b[0m\u001b[0;36m4\u001b[0m\u001b[0;34m)\u001b[0m\u001b[0;34m\u001b[0m\u001b[0;34m\u001b[0m\u001b[0m\n\u001b[0m",
      "\u001b[0;31mValueError\u001b[0m: cannot reshape array of size 9 into shape (2,4)"
     ]
    }
   ],
   "source": [
    "m = np.array([[1,2,3], [4,5,6], [7,8,9]])\n",
    "print(m, \"\\n\")\n",
    "print('Shape of m:' ,m.shape, '\\n Size of m: ', m.size)\n",
    "x = m.reshape(2,4)"
   ]
  },
  {
   "cell_type": "markdown",
   "metadata": {
    "colab_type": "text",
    "id": "xTZl6UE8bz6s"
   },
   "source": [
    "Here, the matrix ```m``` has a size ```(3,3)``` where as ```m.reshape(2,4)``` is asking it to be rearranged to a dimension ```(2,4)``` which is not possible to do."
   ]
  },
  {
   "cell_type": "markdown",
   "metadata": {
    "colab_type": "text",
    "id": "h2b_4RcSbz6s"
   },
   "source": [
    "### Commonly used initializations"
   ]
  },
  {
   "cell_type": "markdown",
   "metadata": {
    "colab_type": "text",
    "id": "H7p0FZ16bz6t"
   },
   "source": [
    "Many a times typing a ```np.array``` becomes a tedious task. To facilitate in this difficulty, NumPy provides ways to initialize bigger arrays with simple functions."
   ]
  },
  {
   "cell_type": "code",
   "execution_count": 63,
   "metadata": {
    "colab": {},
    "colab_type": "code",
    "id": "eVcCYTgibz6t"
   },
   "outputs": [
    {
     "name": "stdout",
     "output_type": "stream",
     "text": [
      "[[0. 0. 0. 0.]\n",
      " [0. 0. 0. 0.]\n",
      " [0. 0. 0. 0.]]\n"
     ]
    }
   ],
   "source": [
    "a = np.zeros((3,4))\n",
    "print(a)"
   ]
  },
  {
   "cell_type": "markdown",
   "metadata": {
    "colab_type": "text",
    "id": "APRYh4zHbz6w"
   },
   "source": [
    "Thus ```np.zeros((3,4))``` initializes a NumPy array having dimensions 3x4 and all element values equal to ```0```'s"
   ]
  },
  {
   "cell_type": "markdown",
   "metadata": {
    "colab_type": "text",
    "id": "TxyWnPzHbz6x"
   },
   "source": [
    "Similarly the ```np.ones()``` function will create a matrix of the desired dimensions with all element values equal to ```1```"
   ]
  },
  {
   "cell_type": "code",
   "execution_count": 64,
   "metadata": {},
   "outputs": [
    {
     "data": {
      "text/plain": [
       "array([[[[[[1.],\n",
       "           [1.]],\n",
       "\n",
       "          [[1.],\n",
       "           [1.]],\n",
       "\n",
       "          [[1.],\n",
       "           [1.]]],\n",
       "\n",
       "\n",
       "         [[[1.],\n",
       "           [1.]],\n",
       "\n",
       "          [[1.],\n",
       "           [1.]],\n",
       "\n",
       "          [[1.],\n",
       "           [1.]]],\n",
       "\n",
       "\n",
       "         [[[1.],\n",
       "           [1.]],\n",
       "\n",
       "          [[1.],\n",
       "           [1.]],\n",
       "\n",
       "          [[1.],\n",
       "           [1.]]]],\n",
       "\n",
       "\n",
       "\n",
       "        [[[[1.],\n",
       "           [1.]],\n",
       "\n",
       "          [[1.],\n",
       "           [1.]],\n",
       "\n",
       "          [[1.],\n",
       "           [1.]]],\n",
       "\n",
       "\n",
       "         [[[1.],\n",
       "           [1.]],\n",
       "\n",
       "          [[1.],\n",
       "           [1.]],\n",
       "\n",
       "          [[1.],\n",
       "           [1.]]],\n",
       "\n",
       "\n",
       "         [[[1.],\n",
       "           [1.]],\n",
       "\n",
       "          [[1.],\n",
       "           [1.]],\n",
       "\n",
       "          [[1.],\n",
       "           [1.]]]],\n",
       "\n",
       "\n",
       "\n",
       "        [[[[1.],\n",
       "           [1.]],\n",
       "\n",
       "          [[1.],\n",
       "           [1.]],\n",
       "\n",
       "          [[1.],\n",
       "           [1.]]],\n",
       "\n",
       "\n",
       "         [[[1.],\n",
       "           [1.]],\n",
       "\n",
       "          [[1.],\n",
       "           [1.]],\n",
       "\n",
       "          [[1.],\n",
       "           [1.]]],\n",
       "\n",
       "\n",
       "         [[[1.],\n",
       "           [1.]],\n",
       "\n",
       "          [[1.],\n",
       "           [1.]],\n",
       "\n",
       "          [[1.],\n",
       "           [1.]]]],\n",
       "\n",
       "\n",
       "\n",
       "        [[[[1.],\n",
       "           [1.]],\n",
       "\n",
       "          [[1.],\n",
       "           [1.]],\n",
       "\n",
       "          [[1.],\n",
       "           [1.]]],\n",
       "\n",
       "\n",
       "         [[[1.],\n",
       "           [1.]],\n",
       "\n",
       "          [[1.],\n",
       "           [1.]],\n",
       "\n",
       "          [[1.],\n",
       "           [1.]]],\n",
       "\n",
       "\n",
       "         [[[1.],\n",
       "           [1.]],\n",
       "\n",
       "          [[1.],\n",
       "           [1.]],\n",
       "\n",
       "          [[1.],\n",
       "           [1.]]]]],\n",
       "\n",
       "\n",
       "\n",
       "\n",
       "       [[[[[1.],\n",
       "           [1.]],\n",
       "\n",
       "          [[1.],\n",
       "           [1.]],\n",
       "\n",
       "          [[1.],\n",
       "           [1.]]],\n",
       "\n",
       "\n",
       "         [[[1.],\n",
       "           [1.]],\n",
       "\n",
       "          [[1.],\n",
       "           [1.]],\n",
       "\n",
       "          [[1.],\n",
       "           [1.]]],\n",
       "\n",
       "\n",
       "         [[[1.],\n",
       "           [1.]],\n",
       "\n",
       "          [[1.],\n",
       "           [1.]],\n",
       "\n",
       "          [[1.],\n",
       "           [1.]]]],\n",
       "\n",
       "\n",
       "\n",
       "        [[[[1.],\n",
       "           [1.]],\n",
       "\n",
       "          [[1.],\n",
       "           [1.]],\n",
       "\n",
       "          [[1.],\n",
       "           [1.]]],\n",
       "\n",
       "\n",
       "         [[[1.],\n",
       "           [1.]],\n",
       "\n",
       "          [[1.],\n",
       "           [1.]],\n",
       "\n",
       "          [[1.],\n",
       "           [1.]]],\n",
       "\n",
       "\n",
       "         [[[1.],\n",
       "           [1.]],\n",
       "\n",
       "          [[1.],\n",
       "           [1.]],\n",
       "\n",
       "          [[1.],\n",
       "           [1.]]]],\n",
       "\n",
       "\n",
       "\n",
       "        [[[[1.],\n",
       "           [1.]],\n",
       "\n",
       "          [[1.],\n",
       "           [1.]],\n",
       "\n",
       "          [[1.],\n",
       "           [1.]]],\n",
       "\n",
       "\n",
       "         [[[1.],\n",
       "           [1.]],\n",
       "\n",
       "          [[1.],\n",
       "           [1.]],\n",
       "\n",
       "          [[1.],\n",
       "           [1.]]],\n",
       "\n",
       "\n",
       "         [[[1.],\n",
       "           [1.]],\n",
       "\n",
       "          [[1.],\n",
       "           [1.]],\n",
       "\n",
       "          [[1.],\n",
       "           [1.]]]],\n",
       "\n",
       "\n",
       "\n",
       "        [[[[1.],\n",
       "           [1.]],\n",
       "\n",
       "          [[1.],\n",
       "           [1.]],\n",
       "\n",
       "          [[1.],\n",
       "           [1.]]],\n",
       "\n",
       "\n",
       "         [[[1.],\n",
       "           [1.]],\n",
       "\n",
       "          [[1.],\n",
       "           [1.]],\n",
       "\n",
       "          [[1.],\n",
       "           [1.]]],\n",
       "\n",
       "\n",
       "         [[[1.],\n",
       "           [1.]],\n",
       "\n",
       "          [[1.],\n",
       "           [1.]],\n",
       "\n",
       "          [[1.],\n",
       "           [1.]]]]],\n",
       "\n",
       "\n",
       "\n",
       "\n",
       "       [[[[[1.],\n",
       "           [1.]],\n",
       "\n",
       "          [[1.],\n",
       "           [1.]],\n",
       "\n",
       "          [[1.],\n",
       "           [1.]]],\n",
       "\n",
       "\n",
       "         [[[1.],\n",
       "           [1.]],\n",
       "\n",
       "          [[1.],\n",
       "           [1.]],\n",
       "\n",
       "          [[1.],\n",
       "           [1.]]],\n",
       "\n",
       "\n",
       "         [[[1.],\n",
       "           [1.]],\n",
       "\n",
       "          [[1.],\n",
       "           [1.]],\n",
       "\n",
       "          [[1.],\n",
       "           [1.]]]],\n",
       "\n",
       "\n",
       "\n",
       "        [[[[1.],\n",
       "           [1.]],\n",
       "\n",
       "          [[1.],\n",
       "           [1.]],\n",
       "\n",
       "          [[1.],\n",
       "           [1.]]],\n",
       "\n",
       "\n",
       "         [[[1.],\n",
       "           [1.]],\n",
       "\n",
       "          [[1.],\n",
       "           [1.]],\n",
       "\n",
       "          [[1.],\n",
       "           [1.]]],\n",
       "\n",
       "\n",
       "         [[[1.],\n",
       "           [1.]],\n",
       "\n",
       "          [[1.],\n",
       "           [1.]],\n",
       "\n",
       "          [[1.],\n",
       "           [1.]]]],\n",
       "\n",
       "\n",
       "\n",
       "        [[[[1.],\n",
       "           [1.]],\n",
       "\n",
       "          [[1.],\n",
       "           [1.]],\n",
       "\n",
       "          [[1.],\n",
       "           [1.]]],\n",
       "\n",
       "\n",
       "         [[[1.],\n",
       "           [1.]],\n",
       "\n",
       "          [[1.],\n",
       "           [1.]],\n",
       "\n",
       "          [[1.],\n",
       "           [1.]]],\n",
       "\n",
       "\n",
       "         [[[1.],\n",
       "           [1.]],\n",
       "\n",
       "          [[1.],\n",
       "           [1.]],\n",
       "\n",
       "          [[1.],\n",
       "           [1.]]]],\n",
       "\n",
       "\n",
       "\n",
       "        [[[[1.],\n",
       "           [1.]],\n",
       "\n",
       "          [[1.],\n",
       "           [1.]],\n",
       "\n",
       "          [[1.],\n",
       "           [1.]]],\n",
       "\n",
       "\n",
       "         [[[1.],\n",
       "           [1.]],\n",
       "\n",
       "          [[1.],\n",
       "           [1.]],\n",
       "\n",
       "          [[1.],\n",
       "           [1.]]],\n",
       "\n",
       "\n",
       "         [[[1.],\n",
       "           [1.]],\n",
       "\n",
       "          [[1.],\n",
       "           [1.]],\n",
       "\n",
       "          [[1.],\n",
       "           [1.]]]]],\n",
       "\n",
       "\n",
       "\n",
       "\n",
       "       [[[[[1.],\n",
       "           [1.]],\n",
       "\n",
       "          [[1.],\n",
       "           [1.]],\n",
       "\n",
       "          [[1.],\n",
       "           [1.]]],\n",
       "\n",
       "\n",
       "         [[[1.],\n",
       "           [1.]],\n",
       "\n",
       "          [[1.],\n",
       "           [1.]],\n",
       "\n",
       "          [[1.],\n",
       "           [1.]]],\n",
       "\n",
       "\n",
       "         [[[1.],\n",
       "           [1.]],\n",
       "\n",
       "          [[1.],\n",
       "           [1.]],\n",
       "\n",
       "          [[1.],\n",
       "           [1.]]]],\n",
       "\n",
       "\n",
       "\n",
       "        [[[[1.],\n",
       "           [1.]],\n",
       "\n",
       "          [[1.],\n",
       "           [1.]],\n",
       "\n",
       "          [[1.],\n",
       "           [1.]]],\n",
       "\n",
       "\n",
       "         [[[1.],\n",
       "           [1.]],\n",
       "\n",
       "          [[1.],\n",
       "           [1.]],\n",
       "\n",
       "          [[1.],\n",
       "           [1.]]],\n",
       "\n",
       "\n",
       "         [[[1.],\n",
       "           [1.]],\n",
       "\n",
       "          [[1.],\n",
       "           [1.]],\n",
       "\n",
       "          [[1.],\n",
       "           [1.]]]],\n",
       "\n",
       "\n",
       "\n",
       "        [[[[1.],\n",
       "           [1.]],\n",
       "\n",
       "          [[1.],\n",
       "           [1.]],\n",
       "\n",
       "          [[1.],\n",
       "           [1.]]],\n",
       "\n",
       "\n",
       "         [[[1.],\n",
       "           [1.]],\n",
       "\n",
       "          [[1.],\n",
       "           [1.]],\n",
       "\n",
       "          [[1.],\n",
       "           [1.]]],\n",
       "\n",
       "\n",
       "         [[[1.],\n",
       "           [1.]],\n",
       "\n",
       "          [[1.],\n",
       "           [1.]],\n",
       "\n",
       "          [[1.],\n",
       "           [1.]]]],\n",
       "\n",
       "\n",
       "\n",
       "        [[[[1.],\n",
       "           [1.]],\n",
       "\n",
       "          [[1.],\n",
       "           [1.]],\n",
       "\n",
       "          [[1.],\n",
       "           [1.]]],\n",
       "\n",
       "\n",
       "         [[[1.],\n",
       "           [1.]],\n",
       "\n",
       "          [[1.],\n",
       "           [1.]],\n",
       "\n",
       "          [[1.],\n",
       "           [1.]]],\n",
       "\n",
       "\n",
       "         [[[1.],\n",
       "           [1.]],\n",
       "\n",
       "          [[1.],\n",
       "           [1.]],\n",
       "\n",
       "          [[1.],\n",
       "           [1.]]]]]])"
      ]
     },
     "execution_count": 64,
     "metadata": {},
     "output_type": "execute_result"
    }
   ],
   "source": [
    "np.ones((4,4,3,3,2,1))"
   ]
  },
  {
   "cell_type": "code",
   "execution_count": 65,
   "metadata": {
    "colab": {},
    "colab_type": "code",
    "id": "7l98plx9bz6y",
    "scrolled": true
   },
   "outputs": [
    {
     "name": "stdout",
     "output_type": "stream",
     "text": [
      "[[[1. 1.]\n",
      "  [1. 1.]]\n",
      "\n",
      " [[1. 1.]\n",
      "  [1. 1.]]\n",
      "\n",
      " [[1. 1.]\n",
      "  [1. 1.]]]\n"
     ]
    }
   ],
   "source": [
    "a = np.ones((3,2,2))\n",
    "print(a)"
   ]
  },
  {
   "cell_type": "markdown",
   "metadata": {
    "colab_type": "text",
    "id": "CLqlszVcbz61"
   },
   "source": [
    "NumPy also provides us with the option of randomly initializing the element values in it's arrays. The ```np.random.rand()``` function creates an array of the given shape and populates it with random samples from a uniform distribution over ```[0, 1)```."
   ]
  },
  {
   "cell_type": "code",
   "execution_count": 66,
   "metadata": {
    "colab": {},
    "colab_type": "code",
    "id": "QaDU6KfWbz62",
    "scrolled": true
   },
   "outputs": [
    {
     "name": "stdout",
     "output_type": "stream",
     "text": [
      "[[0.56838298 0.31697436 0.18053288 0.55843754 0.98263946]\n",
      " [0.83144027 0.69973587 0.68898312 0.41292445 0.98046464]\n",
      " [0.89308703 0.60088155 0.81136558 0.84297428 0.35456488]]\n"
     ]
    }
   ],
   "source": [
    "a = np.random.rand(3,5)\n",
    "print(a)"
   ]
  },
  {
   "cell_type": "code",
   "execution_count": 67,
   "metadata": {},
   "outputs": [
    {
     "data": {
      "text/plain": [
       "3.5"
      ]
     },
     "execution_count": 67,
     "metadata": {},
     "output_type": "execute_result"
    }
   ],
   "source": [
    "b=np.array([3,4])\n",
    "b.mean()"
   ]
  },
  {
   "cell_type": "markdown",
   "metadata": {
    "colab_type": "text",
    "id": "EwrkEvWgbz63"
   },
   "source": [
    "And, the ```np.random.randn()``` does the same but with samples taken from a normal distribution given by $  \\frac{1}{{\\sigma \\sqrt {2\\pi } }}e^{{(x-\\mu)}^2 / 2\\sigma^2 } $ having mean ($\\mu$) 0 and variance ($\\sigma^2$) 1."
   ]
  },
  {
   "cell_type": "code",
   "execution_count": 75,
   "metadata": {
    "colab": {},
    "colab_type": "code",
    "id": "UdIsxf8cbz63",
    "scrolled": true
   },
   "outputs": [
    {
     "name": "stdout",
     "output_type": "stream",
     "text": [
      "-0.00020621186196341238\n",
      "1.4114368898580212\n",
      "[[-4.14054859e-01 -1.23689611e-01 -1.21237568e-03 ...  1.21121016e+00\n",
      "   7.00122574e-01 -6.75866787e-01]\n",
      " [-4.32761210e-01 -2.72754343e-01  1.10270068e+00 ...  1.46376123e+00\n",
      "   1.64235269e-01  2.43269454e-01]\n",
      " [-4.25487557e-01  2.19969051e-01 -7.35224206e-01 ...  1.15481110e-01\n",
      "   5.92259813e-02  1.44396296e+00]\n",
      " ...\n",
      " [-6.78923623e-01 -1.38498172e+00 -1.03632336e+00 ... -1.38486705e+00\n",
      "  -1.06784208e+00  1.27987519e+00]\n",
      " [-1.61184994e-02 -4.31099204e-01 -3.82319226e-01 ...  4.37871792e-01\n",
      "   3.70026551e-01  1.17144934e+00]\n",
      " [-1.18903238e-01 -1.46241982e+00 -1.11850012e+00 ... -1.74723003e+00\n",
      "   8.36970565e-01 -2.00239455e+00]]\n"
     ]
    }
   ],
   "source": [
    "a = np.random.randn(2000,2000)\n",
    "print(a.mean()) # For a large enough array, this value converges to 0\n",
    "print(np.std(a**2)) # For a large enough array this value converges to 1\n",
    "print(a)"
   ]
  },
  {
   "cell_type": "code",
   "execution_count": 76,
   "metadata": {
    "scrolled": true
   },
   "outputs": [
    {
     "ename": "AttributeError",
     "evalue": "'numpy.ndarray' object has no attribute 'count'",
     "output_type": "error",
     "traceback": [
      "\u001b[0;31m---------------------------------------------------------------------------\u001b[0m",
      "\u001b[0;31mAttributeError\u001b[0m                            Traceback (most recent call last)",
      "\u001b[0;32m/var/folders/jl/_v82_5_s125cv1wqs0ymhvc80000gn/T/ipykernel_51169/4046602334.py\u001b[0m in \u001b[0;36m<module>\u001b[0;34m\u001b[0m\n\u001b[0;32m----> 1\u001b[0;31m \u001b[0ma\u001b[0m\u001b[0;34m.\u001b[0m\u001b[0mmin\u001b[0m\u001b[0;34m(\u001b[0m\u001b[0;34m)\u001b[0m\u001b[0;34m,\u001b[0m \u001b[0ma\u001b[0m\u001b[0;34m.\u001b[0m\u001b[0mmax\u001b[0m\u001b[0;34m(\u001b[0m\u001b[0;34m)\u001b[0m\u001b[0;34m,\u001b[0m \u001b[0ma\u001b[0m\u001b[0;34m.\u001b[0m\u001b[0mshape\u001b[0m\u001b[0;34m,\u001b[0m \u001b[0ma\u001b[0m\u001b[0;34m.\u001b[0m\u001b[0mcount\u001b[0m\u001b[0;34m(\u001b[0m\u001b[0;34m-\u001b[0m\u001b[0;36m5.343728437044812\u001b[0m\u001b[0;34m)\u001b[0m\u001b[0;34m\u001b[0m\u001b[0;34m\u001b[0m\u001b[0m\n\u001b[0m",
      "\u001b[0;31mAttributeError\u001b[0m: 'numpy.ndarray' object has no attribute 'count'"
     ]
    }
   ],
   "source": [
    "a.min(), a.max(), a.shape,"
   ]
  },
  {
   "cell_type": "markdown",
   "metadata": {
    "colab_type": "text",
    "id": "ahWJAUmTbz65"
   },
   "source": [
    "## Element-wise operations"
   ]
  },
  {
   "cell_type": "markdown",
   "metadata": {
    "colab_type": "text",
    "id": "wyN6QNdNbz65"
   },
   "source": [
    "### The Python way"
   ]
  },
  {
   "cell_type": "markdown",
   "metadata": {
    "colab_type": "text",
    "id": "c1vc_K6Ibz66"
   },
   "source": [
    "Suppose we had a list of numbers, and we wanted to add 5 to every item in the list. Without NumPy, we might do something like this:"
   ]
  },
  {
   "cell_type": "code",
   "execution_count": 123,
   "metadata": {
    "colab": {},
    "colab_type": "code",
    "id": "oUkqxjQibz66",
    "scrolled": false
   },
   "outputs": [
    {
     "name": "stdout",
     "output_type": "stream",
     "text": [
      "[6, 7, 8, 9, 10]\n"
     ]
    }
   ],
   "source": [
    "values = [1,2,3,4,5]\n",
    "for i in range(len(values)):\n",
    "    values[i] += 5\n",
    "print(values)"
   ]
  },
  {
   "cell_type": "markdown",
   "metadata": {
    "colab_type": "text",
    "id": "Ghp8zQalbz68"
   },
   "source": [
    "That makes sense, but it's a lot of code to write and it runs slowly because it's pure Python. <br> <br>\n",
    "**Note:** Just in case we aren't used to using operators like +=, that just means \"*add these two items and then store the result in the left item.*\" It is a more succinct way of writing ```values[i] = values[i] + 5```."
   ]
  },
  {
   "cell_type": "markdown",
   "metadata": {
    "colab_type": "text",
    "id": "M3NvfYLVbz68"
   },
   "source": [
    "### The NumPy way"
   ]
  },
  {
   "cell_type": "markdown",
   "metadata": {
    "colab_type": "text",
    "id": "DzXOghtMbz69"
   },
   "source": [
    "In NumPy, we could do the following:"
   ]
  },
  {
   "cell_type": "code",
   "execution_count": 83,
   "metadata": {
    "colab": {},
    "colab_type": "code",
    "id": "qMgjIY3Wbz6-"
   },
   "outputs": [
    {
     "name": "stdout",
     "output_type": "stream",
     "text": [
      "[ 6  7  8  9 10]\n"
     ]
    }
   ],
   "source": [
    "values = [1,2,3,4,5]\n",
    "values = np.array(values) +5\n",
    "print(values)"
   ]
  },
  {
   "cell_type": "markdown",
   "metadata": {
    "colab_type": "text",
    "id": "BcH4MFwwbz6_"
   },
   "source": [
    "Creating that array may seem odd, but normally we'll be storing our data in ndarrays anyway. So if we already had an ```ndarray``` named variable, we would have just done:"
   ]
  },
  {
   "cell_type": "code",
   "execution_count": 126,
   "metadata": {
    "colab": {},
    "colab_type": "code",
    "id": "nSeW5X7xbz7A"
   },
   "outputs": [
    {
     "name": "stdout",
     "output_type": "stream",
     "text": [
      "[1 2 3 4 5]\n",
      "[ 6  7  8  9 10]\n"
     ]
    }
   ],
   "source": [
    "values = values-5     #back to the original values\n",
    "print(values)\n",
    "values += 5\n",
    "print(values)"
   ]
  },
  {
   "cell_type": "markdown",
   "metadata": {
    "colab_type": "text",
    "id": "V-M2ssjDbz7B"
   },
   "source": [
    "We should point out, NumPy actually has functions for things like adding, multiplying, etc. But it also supports using the standard math operators. So the following two lines are equivalent:"
   ]
  },
  {
   "cell_type": "code",
   "execution_count": 84,
   "metadata": {
    "colab": {},
    "colab_type": "code",
    "id": "H9veyVfMbz7B"
   },
   "outputs": [
    {
     "name": "stdout",
     "output_type": "stream",
     "text": [
      "[30 35 40 45 50]\n",
      "[30 35 40 45 50]\n"
     ]
    }
   ],
   "source": [
    "x = np.multiply(values, 5)\n",
    "print(x)\n",
    "x = values * 5\n",
    "print(x)"
   ]
  },
  {
   "cell_type": "markdown",
   "metadata": {
    "colab_type": "text",
    "id": "nsvT51gtbz7E"
   },
   "source": [
    "We will usually use the operators instead of the functions because they are more convenient to type and easier to read, but it's really just personal preference."
   ]
  },
  {
   "cell_type": "markdown",
   "metadata": {
    "colab_type": "text",
    "id": "O8I6dz-sbz7F"
   },
   "source": [
    "One more example of operating with scalars and ndarrays. Let's say we have a matrix m and we want to reuse it, but first we need to set all its values to zero. Easy, just multiply by zero and assign the result back to the matrix, like this:"
   ]
  },
  {
   "cell_type": "code",
   "execution_count": 319,
   "metadata": {
    "colab": {},
    "colab_type": "code",
    "id": "p9hPdFW6bz7F"
   },
   "outputs": [
    {
     "name": "stdout",
     "output_type": "stream",
     "text": [
      "[[1 2 3]\n",
      " [4 5 6]\n",
      " [7 8 9]]\n",
      "[[0 0 0]\n",
      " [0 0 0]\n",
      " [0 0 0]]\n"
     ]
    }
   ],
   "source": [
    "import numpy as np\n",
    "m = np.array([[1,2,3],[4,5,6],[7,8,9]])\n",
    "print(m)\n",
    "\n",
    "m *= 0\n",
    "print(m)"
   ]
  },
  {
   "cell_type": "markdown",
   "metadata": {
    "colab_type": "text",
    "id": "mQQkH3cfbz7I"
   },
   "source": [
    "### Element-wise Matrix Operations\n",
    "The same functions and operators that work with scalars and matrices also work with other dimensions. We just need to make sure that the items we perform the operation on have compatible shapes.\n",
    "Let's say we want to get the squared values of a matrix. That's simply ```x = m * m``` (or if we want to assign the value back to m, it's just ```m *= m``` <br>\n",
    "This works because it's an element-wise multiplication between two identically-shaped matrices. (In this case, they are shaped the same because they are actually the same object.) <br> <br>\n",
    "Let's look at the following example:"
   ]
  },
  {
   "cell_type": "code",
   "execution_count": 320,
   "metadata": {
    "colab": {},
    "colab_type": "code",
    "id": "UWoJE4qpbz7I"
   },
   "outputs": [
    {
     "name": "stdout",
     "output_type": "stream",
     "text": [
      "a = \n",
      " [[1 3]\n",
      " [5 7]] \n",
      "\n",
      "a_list = \n",
      " [[1, 3], [5, 7]] \n",
      "\n",
      "b = \n",
      " [[2 4]\n",
      " [6 8]] \n",
      "\n",
      "b_list = \n",
      " [[2, 4], [6, 8]] \n",
      "\n",
      "a + b = \n",
      " [[ 3  7]\n",
      " [11 15]] \n",
      "\n",
      "a_list + b_list = \n",
      " [[1, 3], [5, 7], [2, 4], [6, 8]] \n",
      "\n"
     ]
    }
   ],
   "source": [
    "a = np.array([[1,3],[5,7]])\n",
    "a_list = [[1,3],[5,7]]\n",
    "print(\"a = \\n\",a,\"\\n\")\n",
    "print(\"a_list = \\n\",a_list,\"\\n\")\n",
    "\n",
    "b = np.array([[2,4],[6,8]])\n",
    "b_list = [[2,4],[6,8]]\n",
    "print(\"b = \\n\",b,\"\\n\")\n",
    "print(\"b_list = \\n\",b_list,\"\\n\")\n",
    "\n",
    "print(\"a + b = \\n\",a + b,\"\\n\")\n",
    "print(\"a_list + b_list = \\n\",a_list + b_list,\"\\n\")"
   ]
  },
  {
   "cell_type": "markdown",
   "metadata": {
    "colab_type": "text",
    "id": "xzCj7kGlbz7K"
   },
   "source": [
    "We can see that simple lists yield quite a different result. <br>\n",
    "And, if we try working with incompatible shapes we'd get an error:"
   ]
  },
  {
   "cell_type": "code",
   "execution_count": 321,
   "metadata": {
    "colab": {},
    "colab_type": "code",
    "id": "yL7CgxAdbz7K"
   },
   "outputs": [
    {
     "name": "stdout",
     "output_type": "stream",
     "text": [
      "a = \n",
      " [[1 3]\n",
      " [5 7]] \n",
      "\n",
      "c = \n",
      " [[2 3 6]\n",
      " [4 5 9]\n",
      " [1 8 7]] \n",
      "\n",
      "a.shape:  (2, 2)\n",
      "c.shape:  (3, 3) \n",
      "\n"
     ]
    },
    {
     "ename": "ValueError",
     "evalue": "operands could not be broadcast together with shapes (2,2) (3,3) ",
     "output_type": "error",
     "traceback": [
      "\u001b[0;31m---------------------------------------------------------------------------\u001b[0m",
      "\u001b[0;31mValueError\u001b[0m                                Traceback (most recent call last)",
      "\u001b[0;32m/var/folders/jl/_v82_5_s125cv1wqs0ymhvc80000gn/T/ipykernel_51169/2308489669.py\u001b[0m in \u001b[0;36m<module>\u001b[0;34m\u001b[0m\n\u001b[1;32m      8\u001b[0m \u001b[0mprint\u001b[0m\u001b[0;34m(\u001b[0m\u001b[0;34m\"c.shape: \"\u001b[0m\u001b[0;34m,\u001b[0m\u001b[0mc\u001b[0m\u001b[0;34m.\u001b[0m\u001b[0mshape\u001b[0m\u001b[0;34m,\u001b[0m\u001b[0;34m\"\\n\"\u001b[0m\u001b[0;34m)\u001b[0m\u001b[0;34m\u001b[0m\u001b[0;34m\u001b[0m\u001b[0m\n\u001b[1;32m      9\u001b[0m \u001b[0;34m\u001b[0m\u001b[0m\n\u001b[0;32m---> 10\u001b[0;31m \u001b[0mprint\u001b[0m\u001b[0;34m(\u001b[0m\u001b[0;34m\"a + c = \\n\"\u001b[0m\u001b[0;34m,\u001b[0m\u001b[0ma\u001b[0m \u001b[0;34m+\u001b[0m \u001b[0mc\u001b[0m\u001b[0;34m)\u001b[0m\u001b[0;34m\u001b[0m\u001b[0;34m\u001b[0m\u001b[0m\n\u001b[0m",
      "\u001b[0;31mValueError\u001b[0m: operands could not be broadcast together with shapes (2,2) (3,3) "
     ]
    }
   ],
   "source": [
    "a = np.array([[1,3],[5,7]])\n",
    "print(\"a = \\n\",a,\"\\n\") \n",
    "\n",
    "c = np.array([[2,3,6],[4,5,9],[1,8,7]])\n",
    "print(\"c = \\n\",c,\"\\n\")\n",
    "\n",
    "print(\"a.shape: \",a.shape)\n",
    "print(\"c.shape: \",c.shape,\"\\n\")\n",
    "\n",
    "print(\"a + c = \\n\",a + c)"
   ]
  },
  {
   "cell_type": "markdown",
   "metadata": {
    "colab_type": "text",
    "id": "E2GGk2fobz7L"
   },
   "source": [
    "## NumPy Matrix Multiplication\n",
    "Now we'll talk about how to do matrix multiplication with NumPy. It's important to know that NumPy supports several types of matrix multiplication."
   ]
  },
  {
   "cell_type": "markdown",
   "metadata": {
    "colab_type": "text",
    "id": "cWiF2P9kbz7M"
   },
   "source": [
    "### Element-wise Multiplication\n",
    "We have seen some element-wise multiplication already. we can also accomplish that with the ```multiply``` function or the ```*``` operator. Just to revisit, it would look like this:\n"
   ]
  },
  {
   "cell_type": "code",
   "execution_count": 322,
   "metadata": {
    "colab": {},
    "colab_type": "code",
    "id": "teExuhYAbz7M"
   },
   "outputs": [
    {
     "name": "stdout",
     "output_type": "stream",
     "text": [
      "m = \n",
      " [[1 2 3]\n",
      " [4 5 6]] \n",
      "\n",
      "n = \n",
      " [[0.25 0.5  0.75]\n",
      " [1.   1.25 1.5 ]] \n",
      "\n",
      "m * n = \n",
      " [[0.25 1.   2.25]\n",
      " [4.   6.25 9.  ]] \n",
      "\n",
      "np.multiply(m, n)= \n",
      " [[0.25 1.   2.25]\n",
      " [4.   6.25 9.  ]]\n"
     ]
    }
   ],
   "source": [
    "m = np.array([[1,2,3],[4,5,6]])\n",
    "print(\"m = \\n\",m,\"\\n\")\n",
    "\n",
    "n = m * 0.25\n",
    "print(\"n = \\n\",n,\"\\n\")\n",
    "\n",
    "print(\"m * n = \\n\",m * n,\"\\n\")\n",
    "\n",
    "print(\"np.multiply(m, n)= \\n\",np.multiply(m, n))"
   ]
  },
  {
   "cell_type": "markdown",
   "metadata": {
    "colab_type": "text",
    "id": "sTkSiY8mbz7N"
   },
   "source": [
    "### Matrix Product\n",
    "To find the matrix product, we use NumPy's ```matmul``` function. This operation is exclusive for NumPy arrays <br>\n",
    "If we have compatible shapes, then it's as simple as this:"
   ]
  },
  {
   "cell_type": "code",
   "execution_count": 333,
   "metadata": {},
   "outputs": [
    {
     "name": "stdout",
     "output_type": "stream",
     "text": [
      "[[1 3]\n",
      " [5 7]]\n",
      "\t\n",
      "[[2 4]\n",
      " [6 8]]\n"
     ]
    }
   ],
   "source": [
    "print(a)\n",
    "print('\\t')\n",
    "print(b)"
   ]
  },
  {
   "cell_type": "code",
   "execution_count": 334,
   "metadata": {},
   "outputs": [
    {
     "data": {
      "text/plain": [
       "array([[20, 28],\n",
       "       [52, 76]])"
      ]
     },
     "execution_count": 334,
     "metadata": {},
     "output_type": "execute_result"
    }
   ],
   "source": [
    "np.dot(a,b)"
   ]
  },
  {
   "cell_type": "code",
   "execution_count": 335,
   "metadata": {},
   "outputs": [
    {
     "data": {
      "text/plain": [
       "array([[20, 28],\n",
       "       [52, 76]])"
      ]
     },
     "execution_count": 335,
     "metadata": {},
     "output_type": "execute_result"
    }
   ],
   "source": [
    "np.matmul(a,b)"
   ]
  },
  {
   "cell_type": "code",
   "execution_count": 95,
   "metadata": {
    "colab": {},
    "colab_type": "code",
    "id": "tBW_jl28bz7O",
    "scrolled": true
   },
   "outputs": [
    {
     "name": "stdout",
     "output_type": "stream",
     "text": [
      "a = \n",
      " [[1 2 3 4]\n",
      " [5 6 7 8]]\n",
      "a.shape:  (2, 4) \n",
      "\n",
      "b = \n",
      " [[ 1  2  3]\n",
      " [ 4  5  6]\n",
      " [ 7  8  9]\n",
      " [10 11 12]]\n",
      "b.shape:  (4, 3) \n",
      "\n",
      "c = \n",
      " [[ 70  80  90]\n",
      " [158 184 210]]\n",
      "c.shape:  (2, 3) \n",
      "\n"
     ]
    }
   ],
   "source": [
    "a = np.array([[1,2,3,4],[5,6,7,8]])\n",
    "print(\"a = \\n\",a)\n",
    "print(\"a.shape: \",a.shape, \"\\n\")\n",
    "\n",
    "b = np.array([[1,2,3],[4,5,6],[7,8,9],[10,11,12]])\n",
    "print(\"b = \\n\",b)\n",
    "print(\"b.shape: \", b.shape, \"\\n\")\n",
    "\n",
    "c = np.matmul(a, b) # (2,4)*(4,3)\n",
    "print(\"c = \\n\",c)\n",
    "print(\"c.shape: \",c.shape,\"\\n\")"
   ]
  },
  {
   "cell_type": "code",
   "execution_count": 96,
   "metadata": {},
   "outputs": [
    {
     "data": {
      "text/plain": [
       "array([[ 70,  80,  90],\n",
       "       [158, 184, 210]])"
      ]
     },
     "execution_count": 96,
     "metadata": {},
     "output_type": "execute_result"
    }
   ],
   "source": [
    "np.dot(a,b)"
   ]
  },
  {
   "cell_type": "code",
   "execution_count": 122,
   "metadata": {},
   "outputs": [
    {
     "data": {
      "text/plain": [
       "(4, 2, 3)"
      ]
     },
     "execution_count": 122,
     "metadata": {},
     "output_type": "execute_result"
    }
   ],
   "source": [
    "(np.ones((4,2,1))*np.ones((1,2,3))).shape\n",
    "\n"
   ]
  },
  {
   "cell_type": "markdown",
   "metadata": {
    "colab_type": "text",
    "id": "zOUMbS21bz7Q"
   },
   "source": [
    "If our matrices have incompatible shapes, we'll get an error, like the following:"
   ]
  },
  {
   "cell_type": "code",
   "execution_count": 84,
   "metadata": {
    "colab": {},
    "colab_type": "code",
    "id": "l8SnycZQbz7R",
    "scrolled": true
   },
   "outputs": [
    {
     "ename": "ValueError",
     "evalue": "matmul: Input operand 1 has a mismatch in its core dimension 0, with gufunc signature (n?,k),(k,m?)->(n?,m?) (size 2 is different from 3)",
     "output_type": "error",
     "traceback": [
      "\u001b[1;31m---------------------------------------------------------------------------\u001b[0m",
      "\u001b[1;31mValueError\u001b[0m                                Traceback (most recent call last)",
      "\u001b[1;32m<ipython-input-84-af3b88aa2232>\u001b[0m in \u001b[0;36m<module>\u001b[1;34m()\u001b[0m\n\u001b[1;32m----> 1\u001b[1;33m \u001b[0mnp\u001b[0m\u001b[1;33m.\u001b[0m\u001b[0mmatmul\u001b[0m\u001b[1;33m(\u001b[0m\u001b[0mb\u001b[0m\u001b[1;33m,\u001b[0m \u001b[0ma\u001b[0m\u001b[1;33m)\u001b[0m\u001b[1;33m\u001b[0m\u001b[0m\n\u001b[0m",
      "\u001b[1;31mValueError\u001b[0m: matmul: Input operand 1 has a mismatch in its core dimension 0, with gufunc signature (n?,k),(k,m?)->(n?,m?) (size 2 is different from 3)"
     ]
    }
   ],
   "source": [
    "np.matmul(b, a)"
   ]
  },
  {
   "cell_type": "markdown",
   "metadata": {
    "colab_type": "text",
    "id": "hDEoI5Olbz7V"
   },
   "source": [
    "This is because for matrices $a.b \\neq b.a  $ "
   ]
  },
  {
   "cell_type": "markdown",
   "metadata": {
    "colab_type": "text",
    "id": "ukn29pg8bz7V"
   },
   "source": [
    "### NumPy's ```dot``` function\n",
    "We may sometimes see NumPy's ```dot``` function in places where we would expect a ```matmul```. It turns out that the results of ```dot``` and ```matmul``` are the same if the matrices are two dimensional. <br>\n",
    "So these two results are equivalent:"
   ]
  },
  {
   "cell_type": "code",
   "execution_count": 336,
   "metadata": {
    "colab": {},
    "colab_type": "code",
    "id": "4acXHHCmbz7W",
    "scrolled": true
   },
   "outputs": [
    {
     "name": "stdout",
     "output_type": "stream",
     "text": [
      "a = \n",
      " [[1 2]\n",
      " [3 4]] \n",
      "\n",
      "np.dot(a,a) = \n",
      " [[ 7 10]\n",
      " [15 22]] \n",
      "\n",
      "a.dot(a) = \n",
      " [[ 7 10]\n",
      " [15 22]] \n",
      "\n",
      "np.matmul(a,a) = \n",
      " [[ 7 10]\n",
      " [15 22]] \n",
      "\n"
     ]
    }
   ],
   "source": [
    "a = np.array([[1,2],[3,4]])\n",
    "print(\"a = \\n\",a,\"\\n\")\n",
    "\n",
    "print(\"np.dot(a,a) = \\n\",np.dot(a,a),\"\\n\")\n",
    "\n",
    "print(\"a.dot(a) = \\n\",a.dot(a),\"\\n\")  # you can call `dot` directly on the `ndarray`\n",
    "\n",
    "print(\"np.matmul(a,a) = \\n\",np.matmul(a,a),\"\\n\")"
   ]
  },
  {
   "cell_type": "code",
   "execution_count": 337,
   "metadata": {},
   "outputs": [
    {
     "name": "stdout",
     "output_type": "stream",
     "text": [
      "d= \n",
      " [[[1 2]\n",
      "  [3 4]]] \n",
      "\n",
      "(1, 2, 2)\n",
      "np.dot(d,d) = \n",
      " [[[[ 7 10]]\n",
      "\n",
      "  [[15 22]]]] \n",
      "\n",
      "a.dot(d) = \n",
      " [[[ 7 10]]\n",
      "\n",
      " [[15 22]]] \n",
      "\n",
      "np.matmul(d,d) = \n",
      " [[[ 7 10]\n",
      "  [15 22]]] \n",
      "\n"
     ]
    }
   ],
   "source": [
    "d=np.array([[[1,2],[3,4]]])\n",
    "print(\"d= \\n\",d,\"\\n\")\n",
    "print(d.shape)\n",
    "\n",
    "print(\"np.dot(d,d) = \\n\",np.dot(d,d),\"\\n\")\n",
    "\n",
    "print(\"a.dot(d) = \\n\",a.dot(d),\"\\n\")  # you can call `dot` directly on the `ndarray`\n",
    "\n",
    "print(\"np.matmul(d,d) = \\n\",np.matmul(d,d),\"\\n\")"
   ]
  },
  {
   "cell_type": "code",
   "execution_count": 339,
   "metadata": {},
   "outputs": [
    {
     "data": {
      "text/plain": [
       "array([[[ 7, 10]],\n",
       "\n",
       "       [[15, 22]]])"
      ]
     },
     "execution_count": 339,
     "metadata": {},
     "output_type": "execute_result"
    }
   ],
   "source": [
    "a.dot(d)"
   ]
  },
  {
   "cell_type": "code",
   "execution_count": 340,
   "metadata": {},
   "outputs": [
    {
     "data": {
      "text/plain": [
       "array([[[ 7, 10]],\n",
       "\n",
       "       [[15, 22]]])"
      ]
     },
     "execution_count": 340,
     "metadata": {},
     "output_type": "execute_result"
    }
   ],
   "source": [
    "np.dot(a,d)"
   ]
  },
  {
   "cell_type": "code",
   "execution_count": 133,
   "metadata": {},
   "outputs": [
    {
     "data": {
      "text/plain": [
       "(1, 2, 1, 2)"
      ]
     },
     "execution_count": 133,
     "metadata": {},
     "output_type": "execute_result"
    }
   ],
   "source": [
    "np.dot(d,d).shape"
   ]
  },
  {
   "cell_type": "code",
   "execution_count": 137,
   "metadata": {},
   "outputs": [
    {
     "data": {
      "text/plain": [
       "(1, 2, 2)"
      ]
     },
     "execution_count": 137,
     "metadata": {},
     "output_type": "execute_result"
    }
   ],
   "source": [
    "np.matmul(d,d).shape"
   ]
  },
  {
   "cell_type": "code",
   "execution_count": 138,
   "metadata": {},
   "outputs": [
    {
     "data": {
      "text/plain": [
       "array([[[ 7, 10],\n",
       "        [15, 22]]])"
      ]
     },
     "execution_count": 138,
     "metadata": {},
     "output_type": "execute_result"
    }
   ],
   "source": [
    "d@d"
   ]
  },
  {
   "cell_type": "code",
   "execution_count": 139,
   "metadata": {},
   "outputs": [],
   "source": [
    "a = np.random.rand(2,3,3)\n",
    "b = np.random.rand(2,3,3)\n",
    "c = (a@b)\n",
    "d = np.dot(a,b)\n"
   ]
  },
  {
   "cell_type": "code",
   "execution_count": 140,
   "metadata": {},
   "outputs": [
    {
     "name": "stdout",
     "output_type": "stream",
     "text": [
      "[[[0.88884799 0.52244199 1.2962849 ]\n",
      "  [0.52623401 0.29607045 0.56971947]\n",
      "  [0.82892358 0.45954226 0.96559505]]\n",
      "\n",
      " [[0.54585037 0.29846235 0.81609956]\n",
      "  [0.31242066 0.41023455 0.80023018]\n",
      "  [0.49673515 0.59446143 0.71062509]]] (2, 3, 3)\n"
     ]
    }
   ],
   "source": [
    "print(c,c.shape)\n"
   ]
  },
  {
   "cell_type": "code",
   "execution_count": 141,
   "metadata": {
    "scrolled": true
   },
   "outputs": [
    {
     "name": "stdout",
     "output_type": "stream",
     "text": [
      "[[[[0.88884799 0.52244199 1.2962849 ]\n",
      "   [0.6519152  0.45659635 1.24112233]]\n",
      "\n",
      "  [[0.52623401 0.29607045 0.56971947]\n",
      "   [0.24160949 0.40215894 0.36044575]]\n",
      "\n",
      "  [[0.82892358 0.45954226 0.96559505]\n",
      "   [0.39964043 0.55250052 0.71281442]]]\n",
      "\n",
      "\n",
      " [[[0.47021225 0.32724321 0.80193338]\n",
      "   [0.54585037 0.29846235 0.81609956]]\n",
      "\n",
      "  [[0.81309289 0.41589764 0.97338876]\n",
      "   [0.31242066 0.41023455 0.80023018]]\n",
      "\n",
      "  [[0.78379853 0.46978161 0.95633858]\n",
      "   [0.49673515 0.59446143 0.71062509]]]] (2, 3, 2, 3)\n"
     ]
    }
   ],
   "source": [
    "print(d,d.shape)"
   ]
  },
  {
   "cell_type": "code",
   "execution_count": 146,
   "metadata": {},
   "outputs": [
    {
     "name": "stdout",
     "output_type": "stream",
     "text": [
      "(2, 3)\n",
      "[[ 1  4  9]\n",
      " [25 36 49]]\n"
     ]
    }
   ],
   "source": [
    "# *\n",
    "a = np.array([[1,2,3],[5,6,7]])\n",
    "print(a.shape)\n",
    "print(a*a)\n"
   ]
  },
  {
   "cell_type": "code",
   "execution_count": 147,
   "metadata": {
    "scrolled": true
   },
   "outputs": [
    {
     "name": "stdout",
     "output_type": "stream",
     "text": [
      "[[ 1  4  9]\n",
      " [25 36 49]]\n",
      "(2, 3)\n"
     ]
    }
   ],
   "source": [
    "#np.multiply\n",
    "print(np.multiply(a,a))\n",
    "print(np.multiply(a,a).shape)"
   ]
  },
  {
   "cell_type": "code",
   "execution_count": 148,
   "metadata": {},
   "outputs": [],
   "source": [
    "a = np.array([1, 2, 3])\n",
    "b = np.array([4, 5, 6])"
   ]
  },
  {
   "cell_type": "code",
   "execution_count": 149,
   "metadata": {},
   "outputs": [
    {
     "data": {
      "text/plain": [
       "32"
      ]
     },
     "execution_count": 149,
     "metadata": {},
     "output_type": "execute_result"
    }
   ],
   "source": [
    "np.dot(a, b) "
   ]
  },
  {
   "cell_type": "code",
   "execution_count": 152,
   "metadata": {},
   "outputs": [
    {
     "data": {
      "text/plain": [
       "array([[ 14,  38],\n",
       "       [ 38, 110]])"
      ]
     },
     "execution_count": 152,
     "metadata": {},
     "output_type": "execute_result"
    }
   ],
   "source": [
    "a = np.array([[1,2,3],[5,6,7]])\n",
    "np.dot(a,a.T)"
   ]
  },
  {
   "cell_type": "code",
   "execution_count": 342,
   "metadata": {
    "scrolled": true
   },
   "outputs": [
    {
     "data": {
      "text/plain": [
       "array([[[1, 2],\n",
       "        [1, 2]],\n",
       "\n",
       "       [[1, 3],\n",
       "        [1, 3]],\n",
       "\n",
       "       [[1, 4],\n",
       "        [1, 4]]])"
      ]
     },
     "execution_count": 342,
     "metadata": {},
     "output_type": "execute_result"
    }
   ],
   "source": [
    "a=np.array([ [[1,2],[1,2]], [[1,3],[1,3]], [[1,4],[1,4]]\n",
    "    \n",
    "])\n",
    "a"
   ]
  },
  {
   "cell_type": "code",
   "execution_count": 343,
   "metadata": {
    "scrolled": true
   },
   "outputs": [
    {
     "name": "stdout",
     "output_type": "stream",
     "text": [
      "[[[ 3  6]\n",
      "  [ 3  6]]\n",
      "\n",
      " [[ 4 12]\n",
      "  [ 4 12]]\n",
      "\n",
      " [[ 5 20]\n",
      "  [ 5 20]]]\n"
     ]
    }
   ],
   "source": [
    "print(a@a)"
   ]
  },
  {
   "cell_type": "code",
   "execution_count": 344,
   "metadata": {
    "scrolled": true
   },
   "outputs": [
    {
     "name": "stdout",
     "output_type": "stream",
     "text": [
      "[[[[ 3  6]\n",
      "   [ 3  9]\n",
      "   [ 3 12]]\n",
      "\n",
      "  [[ 3  6]\n",
      "   [ 3  9]\n",
      "   [ 3 12]]]\n",
      "\n",
      "\n",
      " [[[ 4  8]\n",
      "   [ 4 12]\n",
      "   [ 4 16]]\n",
      "\n",
      "  [[ 4  8]\n",
      "   [ 4 12]\n",
      "   [ 4 16]]]\n",
      "\n",
      "\n",
      " [[[ 5 10]\n",
      "   [ 5 15]\n",
      "   [ 5 20]]\n",
      "\n",
      "  [[ 5 10]\n",
      "   [ 5 15]\n",
      "   [ 5 20]]]]\n"
     ]
    }
   ],
   "source": [
    "print(np.dot(a,a))"
   ]
  },
  {
   "cell_type": "code",
   "execution_count": 345,
   "metadata": {
    "scrolled": true
   },
   "outputs": [
    {
     "data": {
      "text/plain": [
       "array([[[ 1,  4],\n",
       "        [ 1,  4]],\n",
       "\n",
       "       [[ 1,  9],\n",
       "        [ 1,  9]],\n",
       "\n",
       "       [[ 1, 16],\n",
       "        [ 1, 16]]])"
      ]
     },
     "execution_count": 345,
     "metadata": {},
     "output_type": "execute_result"
    }
   ],
   "source": [
    "a*a"
   ]
  },
  {
   "cell_type": "code",
   "execution_count": 346,
   "metadata": {
    "scrolled": true
   },
   "outputs": [
    {
     "data": {
      "text/plain": [
       "array([[ 2,  8],\n",
       "       [ 2, 18],\n",
       "       [ 2, 32]])"
      ]
     },
     "execution_count": 346,
     "metadata": {},
     "output_type": "execute_result"
    }
   ],
   "source": [
    "np.sum(a*a, axis=1)"
   ]
  },
  {
   "cell_type": "code",
   "execution_count": 349,
   "metadata": {},
   "outputs": [
    {
     "data": {
      "text/plain": [
       "array([[ 3, 29],\n",
       "       [ 3, 29]])"
      ]
     },
     "execution_count": 349,
     "metadata": {},
     "output_type": "execute_result"
    }
   ],
   "source": [
    "sum(a*a)"
   ]
  },
  {
   "cell_type": "markdown",
   "metadata": {
    "colab_type": "text",
    "id": "yP8z2zrSbz7X"
   },
   "source": [
    "While these functions return the same results for two dimensional data, we should be careful about which we choose when working with other data shapes."
   ]
  },
  {
   "cell_type": "markdown",
   "metadata": {
    "colab_type": "text",
    "id": "LyXzdcY6bz7X"
   },
   "source": [
    "### Transpose\n",
    "Getting the transpose of a matrix is really easy in NumPy. Simply access its ```T``` attribute. There is also a ```transpose()``` function which returns the same thing, but we’ll rarely see that used anywhere because typing ```T``` is much easier.\n",
    "For example:"
   ]
  },
  {
   "cell_type": "code",
   "execution_count": 351,
   "metadata": {
    "colab": {},
    "colab_type": "code",
    "id": "JipUFfQFbz7Y"
   },
   "outputs": [
    {
     "name": "stdout",
     "output_type": "stream",
     "text": [
      "m =\n",
      " [[ 1  2  3  4]\n",
      " [ 5  6  7  8]\n",
      " [ 9 10 11 12]] \n",
      "\n",
      "m.T = \n",
      "  [[ 1  5  9]\n",
      " [ 2  6 10]\n",
      " [ 3  7 11]\n",
      " [ 4  8 12]]\n",
      "\n",
      " m.transpose = \n",
      " [[ 1  5  9]\n",
      " [ 2  6 10]\n",
      " [ 3  7 11]\n",
      " [ 4  8 12]]\n"
     ]
    }
   ],
   "source": [
    "m = np.array([[1,2,3,4], [5,6,7,8], [9,10,11,12]])\n",
    "print(\"m =\\n\",m,\"\\n\")\n",
    "\n",
    "print(\"m.T = \\n \",m.T)\n",
    "print(\"\\n m.transpose = \\n\",m.transpose())"
   ]
  },
  {
   "cell_type": "markdown",
   "metadata": {
    "colab_type": "text",
    "id": "7hNdSS0dbz7Z"
   },
   "source": [
    "NumPy does this without actually moving any data in memory - it simply changes the way it indexes the original matrix - so it’s quite efficient."
   ]
  },
  {
   "cell_type": "markdown",
   "metadata": {
    "colab_type": "text",
    "id": "kpWYhaNfbz7Z"
   },
   "source": [
    "However, that also means we need to be careful with how we modify objects, because **they are sharing the same data**. For example, with the same matrix ```m``` from above, let's make a new variable ```m_t``` that stores ```m```'s transpose. Then look what happens if we modify a value in ```m_t```:"
   ]
  },
  {
   "cell_type": "code",
   "execution_count": 352,
   "metadata": {
    "colab": {},
    "colab_type": "code",
    "id": "dJu4zARdbz7a"
   },
   "outputs": [
    {
     "name": "stdout",
     "output_type": "stream",
     "text": [
      "m_t = \n",
      " [[  1   5   9]\n",
      " [  2   6  10]\n",
      " [  3   7  11]\n",
      " [  4 200  12]] \n",
      "\n",
      "m = \n",
      " [[  1   2   3   4]\n",
      " [  5   6   7 200]\n",
      " [  9  10  11  12]]\n"
     ]
    }
   ],
   "source": [
    "m_t = m.T\n",
    "m_t[3][1] = 200\n",
    "print(\"m_t = \\n\",m_t, \"\\n\")\n",
    "\n",
    "print(\"m = \\n\",m)"
   ]
  },
  {
   "cell_type": "markdown",
   "metadata": {
    "colab_type": "text",
    "id": "4VAtVpTHbz7b"
   },
   "source": [
    "Notice how it modified both the transpose and the original matrix, too! That's because they are sharing the same copy of data. So remember to consider the transpose just as a different view of we matrix, rather than a different matrix entirely."
   ]
  },
  {
   "cell_type": "markdown",
   "metadata": {
    "colab_type": "text",
    "id": "Fn5nLkRWbz7b"
   },
   "source": [
    "### A real use case\n",
    "I don't want to get into too many details about neural networks because we haven't covered them yet, but there is one place we will almost certainly end up using a transpose, or at least thinking about it."
   ]
  },
  {
   "cell_type": "markdown",
   "metadata": {
    "colab_type": "text",
    "id": "ikjysiTLbz7c"
   },
   "source": [
    "Let's say we have the following two matrices, called ```inputs``` and ```weights```,"
   ]
  },
  {
   "cell_type": "code",
   "execution_count": 170,
   "metadata": {
    "colab": {},
    "colab_type": "code",
    "id": "ReUyEaXrbz7c"
   },
   "outputs": [
    {
     "name": "stdout",
     "output_type": "stream",
     "text": [
      "inputs = \n",
      " [[-0.27  0.45  0.64  0.31]]\n",
      "inputs.shape:  (1, 4) \n",
      "\n",
      "weights = \n",
      " [[ 0.02   0.001 -0.03   0.036]\n",
      " [ 0.04  -0.003  0.025  0.009]\n",
      " [ 0.012 -0.045  0.28  -0.067]]\n",
      "weights.shape:  (3, 4) \n",
      "\n"
     ]
    }
   ],
   "source": [
    "inputs = np.array([[-0.27,  0.45,  0.64, 0.31]])\n",
    "print(\"inputs = \\n\",inputs)\n",
    "\n",
    "print(\"inputs.shape: \",inputs.shape, \"\\n\")\n",
    "\n",
    "weights = np.array([[0.02, 0.001, -0.03, 0.036], \\\n",
    "    [0.04, -0.003, 0.025, 0.009], [0.012, -0.045, 0.28, -0.067]])\n",
    "\n",
    "print(\"weights = \\n\",weights)\n",
    "\n",
    "print(\"weights.shape: \",weights.shape, \"\\n\")"
   ]
  },
  {
   "cell_type": "markdown",
   "metadata": {
    "colab_type": "text",
    "id": "BuIfTBxObz7d"
   },
   "source": [
    "If we try it like they are now, we get an error:"
   ]
  },
  {
   "cell_type": "code",
   "execution_count": 171,
   "metadata": {
    "colab": {},
    "colab_type": "code",
    "id": "dhsOA4ELbz7e",
    "scrolled": true
   },
   "outputs": [
    {
     "ename": "ValueError",
     "evalue": "matmul: Input operand 1 has a mismatch in its core dimension 0, with gufunc signature (n?,k),(k,m?)->(n?,m?) (size 3 is different from 4)",
     "output_type": "error",
     "traceback": [
      "\u001b[0;31m---------------------------------------------------------------------------\u001b[0m",
      "\u001b[0;31mValueError\u001b[0m                                Traceback (most recent call last)",
      "\u001b[0;32m/var/folders/jl/_v82_5_s125cv1wqs0ymhvc80000gn/T/ipykernel_51169/615889241.py\u001b[0m in \u001b[0;36m<module>\u001b[0;34m\u001b[0m\n\u001b[0;32m----> 1\u001b[0;31m \u001b[0mprint\u001b[0m\u001b[0;34m(\u001b[0m\u001b[0mnp\u001b[0m\u001b[0;34m.\u001b[0m\u001b[0mmatmul\u001b[0m\u001b[0;34m(\u001b[0m\u001b[0minputs\u001b[0m\u001b[0;34m,\u001b[0m \u001b[0mweights\u001b[0m\u001b[0;34m)\u001b[0m\u001b[0;34m)\u001b[0m\u001b[0;34m\u001b[0m\u001b[0;34m\u001b[0m\u001b[0m\n\u001b[0m",
      "\u001b[0;31mValueError\u001b[0m: matmul: Input operand 1 has a mismatch in its core dimension 0, with gufunc signature (n?,k),(k,m?)->(n?,m?) (size 3 is different from 4)"
     ]
    }
   ],
   "source": [
    "print(np.matmul(inputs, weights))"
   ]
  },
  {
   "cell_type": "markdown",
   "metadata": {
    "colab_type": "text",
    "id": "gnJrtU4Ibz7f"
   },
   "source": [
    "This error of incompatible shapes is because the number of columns in the left matrix, ```4```, is not equal the number of rows in the right matrix, ```3```. <br>\n",
    "So that doesn't work, but notice if we take the transpose of the ```weights``` matrix, it will:"
   ]
  },
  {
   "cell_type": "code",
   "execution_count": 172,
   "metadata": {
    "colab": {},
    "colab_type": "code",
    "id": "UCUKUOpbbz7f"
   },
   "outputs": [
    {
     "name": "stdout",
     "output_type": "stream",
     "text": [
      "np.matmul(inputs, weights.T) = \n",
      " [[-0.01299  0.00664  0.13494]]\n"
     ]
    }
   ],
   "source": [
    "print(\"np.matmul(inputs, weights.T) = \\n\",np.matmul(inputs, weights.T))"
   ]
  },
  {
   "cell_type": "code",
   "execution_count": 173,
   "metadata": {},
   "outputs": [
    {
     "data": {
      "text/plain": [
       "(1, 3)"
      ]
     },
     "execution_count": 173,
     "metadata": {},
     "output_type": "execute_result"
    }
   ],
   "source": [
    "oldT = np.matmul(inputs, weights.T)\n",
    "oldT.shape"
   ]
  },
  {
   "cell_type": "markdown",
   "metadata": {
    "colab_type": "text",
    "id": "83xpfpRRbz7i"
   },
   "source": [
    "It also works if we take the transpose of inputs instead and swap their order"
   ]
  },
  {
   "cell_type": "code",
   "execution_count": 174,
   "metadata": {
    "colab": {},
    "colab_type": "code",
    "id": "ZkVRMw9hbz7i"
   },
   "outputs": [
    {
     "name": "stdout",
     "output_type": "stream",
     "text": [
      "[[-0.01299]\n",
      " [ 0.00664]\n",
      " [ 0.13494]]\n"
     ]
    }
   ],
   "source": [
    "print(np.matmul(weights, inputs.T))"
   ]
  },
  {
   "cell_type": "code",
   "execution_count": 175,
   "metadata": {},
   "outputs": [
    {
     "data": {
      "text/plain": [
       "(1, 3)"
      ]
     },
     "execution_count": 175,
     "metadata": {},
     "output_type": "execute_result"
    }
   ],
   "source": [
    "newT = np.matmul(weights, inputs.T)\n",
    "newT.T.shape"
   ]
  },
  {
   "cell_type": "markdown",
   "metadata": {
    "colab_type": "text",
    "id": "cHu0gsi8bz7k"
   },
   "source": [
    "The two answers are transposes of each other, so which multiplication we use really just depends on the shape we want for the output."
   ]
  },
  {
   "cell_type": "markdown",
   "metadata": {
    "colab_type": "text",
    "id": "fontKeoSbz7l"
   },
   "source": [
    "## Sorting, Subsetting, Slicing, Splitting and Indexing"
   ]
  },
  {
   "cell_type": "markdown",
   "metadata": {
    "colab_type": "text",
    "id": "nelIQfInbz7l"
   },
   "source": [
    "Data handling is one of the most important skills to have as a data scientist. NumPy provides a suite of data handling functions. We are going to look at a few of them here."
   ]
  },
  {
   "cell_type": "markdown",
   "metadata": {
    "colab_type": "text",
    "id": "9iL1mcJabz7l"
   },
   "source": [
    "### Sorting"
   ]
  },
  {
   "cell_type": "markdown",
   "metadata": {
    "colab_type": "text",
    "id": "fUVoWJADbz7m"
   },
   "source": [
    "To sort any NumPy array we use the ```np.sort``` function:"
   ]
  },
  {
   "cell_type": "code",
   "execution_count": 176,
   "metadata": {
    "colab": {},
    "colab_type": "code",
    "id": "S_q6Myqmbz7n",
    "scrolled": true
   },
   "outputs": [
    {
     "name": "stdout",
     "output_type": "stream",
     "text": [
      "[[ 7 32  1]\n",
      " [55  0 -6]\n",
      " [ 3 99 20]] \n",
      "\n",
      "[[ 1  7 32]\n",
      " [-6  0 55]\n",
      " [ 3 20 99]] \n",
      "\n",
      "[[ 3  0 -6]\n",
      " [ 7 32  1]\n",
      " [55 99 20]]\n"
     ]
    }
   ],
   "source": [
    "a = np.array([[7,32,1],[55,0,-6],[3,99,20]])\n",
    "print(a, \"\\n\")\n",
    "print(np.sort(a),\"\\n\")\n",
    "print(np.sort(a, axis =0))"
   ]
  },
  {
   "cell_type": "markdown",
   "metadata": {
    "colab_type": "text",
    "id": "Q1NlPHUobz7p"
   },
   "source": [
    "By default, the elements are sorted in ascending order with respect to the last dimension, which in this case is the column dimension. We can also sort the elements with respect to the rows."
   ]
  },
  {
   "cell_type": "code",
   "execution_count": 177,
   "metadata": {
    "colab": {},
    "colab_type": "code",
    "id": "6OZ240wsbz7p"
   },
   "outputs": [
    {
     "name": "stdout",
     "output_type": "stream",
     "text": [
      "[[ 7 32  1]\n",
      " [55  0 -6]\n",
      " [ 3 99 20]] \n",
      "\n",
      "[[ 3  0 -6]\n",
      " [ 7 32  1]\n",
      " [55 99 20]]\n"
     ]
    }
   ],
   "source": [
    "print(a, \"\\n\")\n",
    "print(np.sort(a, axis = 0))"
   ]
  },
  {
   "cell_type": "markdown",
   "metadata": {
    "colab_type": "text",
    "id": "BZgolYgmbz7r"
   },
   "source": [
    "We can also sort all the elements in a 1 dimensional array by setting ```axis``` to ```None```"
   ]
  },
  {
   "cell_type": "code",
   "execution_count": 178,
   "metadata": {
    "colab": {},
    "colab_type": "code",
    "id": "-_DbxaFObz7r"
   },
   "outputs": [
    {
     "name": "stdout",
     "output_type": "stream",
     "text": [
      "[-6  0  1  3  7 20 32 55 99]\n"
     ]
    }
   ],
   "source": [
    "print(np.sort(a, axis=None))"
   ]
  },
  {
   "cell_type": "markdown",
   "metadata": {
    "colab_type": "text",
    "id": "WD7VxXIabz7s"
   },
   "source": [
    "### Subsetting"
   ]
  },
  {
   "cell_type": "markdown",
   "metadata": {
    "colab_type": "text",
    "id": "iGu7DU-mbz7t"
   },
   "source": [
    "Just like sets in mathematics, ```ndarray```'s also have subsets. We will look at some possible subsets of a 2D array (matrix)"
   ]
  },
  {
   "cell_type": "code",
   "execution_count": 353,
   "metadata": {
    "colab": {},
    "colab_type": "code",
    "id": "AtwSvG4Sbz7t"
   },
   "outputs": [
    {
     "name": "stdout",
     "output_type": "stream",
     "text": [
      "[[ 1  2  3  4]\n",
      " [ 5  6  7  8]\n",
      " [ 9 10 11 12]]\n",
      "8\n"
     ]
    }
   ],
   "source": [
    "a = np.array([[1,2,3,4],[5,6,7,8],[9,10,11,12]])\n",
    "print(a)\n",
    "print(a[1][3])\n",
    "\n",
    "# print(a[1,3])\n",
    "\n",
    "# print(a[0])\n",
    "# print(a[:,2])"
   ]
  },
  {
   "cell_type": "code",
   "execution_count": 354,
   "metadata": {},
   "outputs": [
    {
     "name": "stdout",
     "output_type": "stream",
     "text": [
      "8\n",
      "10\n"
     ]
    }
   ],
   "source": [
    "print(a[1,3])\n",
    "print(a[2,1])"
   ]
  },
  {
   "cell_type": "code",
   "execution_count": 183,
   "metadata": {
    "scrolled": true
   },
   "outputs": [
    {
     "name": "stdout",
     "output_type": "stream",
     "text": [
      "[1 2 3 4]\n"
     ]
    }
   ],
   "source": [
    "print(a[0])"
   ]
  },
  {
   "cell_type": "code",
   "execution_count": 184,
   "metadata": {},
   "outputs": [
    {
     "name": "stdout",
     "output_type": "stream",
     "text": [
      "[ 3  7 11]\n"
     ]
    }
   ],
   "source": [
    "print(a[:,2])"
   ]
  },
  {
   "cell_type": "markdown",
   "metadata": {
    "colab_type": "text",
    "id": "jZB8CLYabz7v"
   },
   "source": [
    "Here, ```a[1][3]``` and ```a[1,3]``` both give the same output: The 4th element of the 2nd row; ```a[0]``` gives the entire 1st row where as ```a[:,2]``` gives all the row elements associated with the 3rd column. <br>\n",
    "It should be noted that all of these are considered as subsets of the array ```a```."
   ]
  },
  {
   "cell_type": "markdown",
   "metadata": {
    "colab_type": "text",
    "id": "VEqGmUmsbz7w"
   },
   "source": [
    "### Slicing"
   ]
  },
  {
   "cell_type": "markdown",
   "metadata": {
    "colab_type": "text",
    "id": "55vpuhT6bz7w"
   },
   "source": [
    "Similar to subsetting, slicing allows us to extract certain portions of an array. For example"
   ]
  },
  {
   "cell_type": "code",
   "execution_count": 355,
   "metadata": {
    "colab": {},
    "colab_type": "code",
    "id": "wJRTyGo_bz7x"
   },
   "outputs": [
    {
     "name": "stdout",
     "output_type": "stream",
     "text": [
      "[0 1 2 3 4 5 6 7 8 9]\n",
      "slice(0, 10, 2)\n"
     ]
    }
   ],
   "source": [
    "a = np.arange(10) # a 1D array from 0 to 9\n",
    "print(a)\n",
    "s = slice(0,10,2)\n",
    "# print(a[s])\n",
    "print(s)"
   ]
  },
  {
   "cell_type": "markdown",
   "metadata": {
    "colab_type": "text",
    "id": "PPs4iIYNbz7y"
   },
   "source": [
    "Here, the tuple (2,9,2) means that ```s``` should start with the value ```2```, end at value ```9``` and take steps of ```2``` to get to ```9```. Or we could simply write"
   ]
  },
  {
   "cell_type": "code",
   "execution_count": 198,
   "metadata": {},
   "outputs": [
    {
     "name": "stdout",
     "output_type": "stream",
     "text": [
      "[ 67  69 642   9]\n"
     ]
    }
   ],
   "source": [
    "a=np.array([67,68,69,89,642,65,9,10])\n",
    "s=slice(0,650,2)\n",
    "print(a[s])"
   ]
  },
  {
   "cell_type": "code",
   "execution_count": 204,
   "metadata": {},
   "outputs": [],
   "source": [
    "a=np.array([0,1,2,3,4,5,6,7,8,9])"
   ]
  },
  {
   "cell_type": "code",
   "execution_count": 207,
   "metadata": {
    "colab": {},
    "colab_type": "code",
    "id": "yQX6MuXnbz7z"
   },
   "outputs": [
    {
     "name": "stdout",
     "output_type": "stream",
     "text": [
      "[2 4 6 8]\n"
     ]
    }
   ],
   "source": [
    "s = a[2:9:2]\n",
    "print(s)"
   ]
  },
  {
   "cell_type": "markdown",
   "metadata": {
    "colab_type": "text",
    "id": "g8Yksf92bz70"
   },
   "source": [
    "In both of these examples, we have picked a certain slice of the original array ```a```."
   ]
  },
  {
   "cell_type": "markdown",
   "metadata": {
    "colab_type": "text",
    "id": "WXlaApQLbz71"
   },
   "source": [
    "We can also something like this"
   ]
  },
  {
   "cell_type": "code",
   "execution_count": 211,
   "metadata": {},
   "outputs": [
    {
     "data": {
      "text/plain": [
       "array([0, 1, 2, 3, 4, 5, 6, 7, 8, 9])"
      ]
     },
     "execution_count": 211,
     "metadata": {},
     "output_type": "execute_result"
    }
   ],
   "source": [
    "a"
   ]
  },
  {
   "cell_type": "code",
   "execution_count": 208,
   "metadata": {
    "colab": {},
    "colab_type": "code",
    "id": "C5aDA-ubbz71",
    "scrolled": false
   },
   "outputs": [
    {
     "name": "stdout",
     "output_type": "stream",
     "text": [
      "[9 8 7 6 5 4 3 2 1 0]\n"
     ]
    }
   ],
   "source": [
    "print(a[::-1])"
   ]
  },
  {
   "cell_type": "code",
   "execution_count": 212,
   "metadata": {
    "scrolled": true
   },
   "outputs": [
    {
     "name": "stdout",
     "output_type": "stream",
     "text": [
      "[9 7 5 3 1]\n"
     ]
    }
   ],
   "source": [
    "print(a[::-2])"
   ]
  },
  {
   "cell_type": "code",
   "execution_count": 214,
   "metadata": {},
   "outputs": [
    {
     "name": "stdout",
     "output_type": "stream",
     "text": [
      "[9 7 5]\n"
     ]
    }
   ],
   "source": [
    "print(a[:3:-2])"
   ]
  },
  {
   "cell_type": "markdown",
   "metadata": {
    "colab_type": "text",
    "id": "leOiLcXObz74"
   },
   "source": [
    "Here ```-1``` indicates the reverse order."
   ]
  },
  {
   "cell_type": "markdown",
   "metadata": {
    "colab_type": "text",
    "id": "jqZFV2l_bz75"
   },
   "source": [
    "### Indexing"
   ]
  },
  {
   "cell_type": "markdown",
   "metadata": {
    "colab_type": "text",
    "id": "VzH5AFYPbz75"
   },
   "source": [
    "Although we have already seen indexing at work, there are a few things worth mentioning to develop a better intuition about how NumPy arrays, and to the extent, how tensors in TensorFlow can be handled."
   ]
  },
  {
   "cell_type": "code",
   "execution_count": 217,
   "metadata": {},
   "outputs": [
    {
     "data": {
      "text/plain": [
       "array([6, 7, 8, 9])"
      ]
     },
     "execution_count": 217,
     "metadata": {},
     "output_type": "execute_result"
    }
   ],
   "source": [
    "a[a>5]"
   ]
  },
  {
   "cell_type": "code",
   "execution_count": 370,
   "metadata": {
    "colab": {},
    "colab_type": "code",
    "id": "hqH0yNt5bz76"
   },
   "outputs": [
    {
     "name": "stdout",
     "output_type": "stream",
     "text": [
      "[]\n"
     ]
    }
   ],
   "source": [
    "print(a[(a>5) & (a==5)])"
   ]
  },
  {
   "cell_type": "markdown",
   "metadata": {
    "colab_type": "text",
    "id": "HXyzNx1Mbz78"
   },
   "source": [
    "In the above example, known as boolean indexing, we put a condition on ```a```'s elements of being greater than 5. This kind of conditional filtering also proves helpful sometimes."
   ]
  },
  {
   "cell_type": "code",
   "execution_count": 366,
   "metadata": {},
   "outputs": [
    {
     "name": "stdout",
     "output_type": "stream",
     "text": [
      "[array([1, 2]), array([3, 4]), array([5]), array([6])]\n"
     ]
    }
   ],
   "source": [
    "arr = np.array([1, 2, 3, 4, 5, 6])\n",
    "\n",
    "newarr = np.array_split(arr, 4)\n",
    "\n",
    "print(newarr)"
   ]
  },
  {
   "cell_type": "markdown",
   "metadata": {
    "colab_type": "text",
    "id": "6gsPdEmlbz79"
   },
   "source": [
    "There is depth to the overall working of the NumPy stack in Python, but for the horizon of our course, this much would suffice. <br>\n",
    "### Thank you ."
   ]
  },
  {
   "cell_type": "code",
   "execution_count": 95,
   "metadata": {},
   "outputs": [
    {
     "name": "stdout",
     "output_type": "stream",
     "text": [
      "[ 0  1  2  3  4  5  6  7  8  9 10 11 12 13 14 15 16 17 18 19 20 21 22 23\n",
      " 24 25 26 27 28 29 30 31 32 33 34 35 36 37 38 39 40 41 42 43 44 45 46 47\n",
      " 48 49 50 51 52 53 54 55 56 57 58 59 60 61 62 63 64 65 66 67 68 69 70 71\n",
      " 72 73 74 75 76 77 78 79 80]\n"
     ]
    }
   ],
   "source": [
    "a = np.array(range(0,81))\n",
    "print(a)"
   ]
  },
  {
   "cell_type": "code",
   "execution_count": 99,
   "metadata": {},
   "outputs": [
    {
     "name": "stdout",
     "output_type": "stream",
     "text": [
      "[36 37 38 39 40 41 42 43 44 45 46 47 48 49 50 51 52 53 54 55 56 57 58 59\n",
      " 60 61 62 63 64 65 66 67 68 69 70 71 72 73 74 75 76 77 78 79 80]\n"
     ]
    }
   ],
   "source": [
    "a[25 between 35]\n",
    "print(b)"
   ]
  },
  {
   "cell_type": "code",
   "execution_count": 100,
   "metadata": {},
   "outputs": [
    {
     "name": "stdout",
     "output_type": "stream",
     "text": [
      "[ 0  1  2  3  4  5  6  7  8  9 10 11 12 13 14 15 16 17 18 19 20 21 22 23\n",
      " 24 25 26 27 28 29 30 31 32 33 34]\n"
     ]
    }
   ],
   "source": [
    "c = a[a<35]\n",
    "print(c)"
   ]
  },
  {
   "cell_type": "code",
   "execution_count": 106,
   "metadata": {},
   "outputs": [
    {
     "data": {
      "text/plain": [
       "array([26, 27, 28, 29, 30, 31, 32, 33, 34])"
      ]
     },
     "execution_count": 106,
     "metadata": {},
     "output_type": "execute_result"
    }
   ],
   "source": [
    "d = a[a>25]\n",
    "d[d<35]"
   ]
  },
  {
   "cell_type": "code",
   "execution_count": 108,
   "metadata": {
    "scrolled": true
   },
   "outputs": [
    {
     "name": "stdout",
     "output_type": "stream",
     "text": [
      "[26 27 28 29 30 31 32 33 34]\n"
     ]
    }
   ],
   "source": [
    "c = a[(a>25) & (a<35)]\n",
    "print(c)"
   ]
  },
  {
   "cell_type": "code",
   "execution_count": 223,
   "metadata": {},
   "outputs": [],
   "source": [
    "g=np.array([[[1,2]],[[2,2]],[[1,2]],[[2,2]]])"
   ]
  },
  {
   "cell_type": "code",
   "execution_count": 224,
   "metadata": {},
   "outputs": [
    {
     "data": {
      "text/plain": [
       "(4, 1, 2)"
      ]
     },
     "execution_count": 224,
     "metadata": {},
     "output_type": "execute_result"
    }
   ],
   "source": [
    "g.shape"
   ]
  },
  {
   "cell_type": "code",
   "execution_count": 225,
   "metadata": {},
   "outputs": [
    {
     "data": {
      "text/plain": [
       "array([[[[1., 1.]],\n",
       "\n",
       "        [[1., 1.]]],\n",
       "\n",
       "\n",
       "       [[[1., 1.]],\n",
       "\n",
       "        [[1., 1.]]]])"
      ]
     },
     "execution_count": 225,
     "metadata": {},
     "output_type": "execute_result"
    }
   ],
   "source": [
    "np.ones([2,2,1,2])"
   ]
  },
  {
   "cell_type": "code",
   "execution_count": null,
   "metadata": {},
   "outputs": [],
   "source": []
  }
 ],
 "metadata": {
  "colab": {
   "name": "NumPy.ipynb",
   "provenance": [],
   "version": "0.3.2"
  },
  "kernelspec": {
   "display_name": "Python 3 (ipykernel)",
   "language": "python",
   "name": "python3"
  },
  "language_info": {
   "codemirror_mode": {
    "name": "ipython",
    "version": 3
   },
   "file_extension": ".py",
   "mimetype": "text/x-python",
   "name": "python",
   "nbconvert_exporter": "python",
   "pygments_lexer": "ipython3",
   "version": "3.9.7"
  }
 },
 "nbformat": 4,
 "nbformat_minor": 1
}
