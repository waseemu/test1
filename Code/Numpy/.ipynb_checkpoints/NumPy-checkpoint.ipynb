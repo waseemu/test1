{
 "cells": [
  {
   "cell_type": "markdown",
   "metadata": {},
   "source": [
    "# Introducing NumPy\n"
   ]
  },
  {
   "cell_type": "markdown",
   "metadata": {},
   "source": [
    "Python is convenient, but it can also be slow. However, it does allows us to access libraries that execute faster code written in languages like C. NumPy is one such library: it provides **fast alternatives to math operations in Python** and is designed to work efficiently with groups of numbers - like matrices.\n",
    "NumPy is a large library and we are only going to scratch the surface of it here."
   ]
  },
  {
   "cell_type": "markdown",
   "metadata": {},
   "source": [
    "This hands on tutorial includes the following: <br>\n",
    "- #### Data Types and Shapes\n",
    "    -  Scalar <br>\n",
    "    -  Vectors <br>\n",
    "    -  Matrices <br>\n",
    "    - Tensors <br>\n",
    "    - Changing shapes* <br>\n",
    "    - Commonly used initializations <br>\n",
    "- #### Element wise operation\n",
    "    -  The Python way <br>\n",
    "    -  The NumPy way <br>\n",
    "    -  Element-wise Matrix Operations <br>\n",
    "- #### NumPy Matrix Multiplication\n",
    "    -  Element-wise Multiplication <br>\n",
    "    -  Matrix Product <br>\n",
    "    -  NumPys ```dot``` function <br>\n",
    "    -  Transpose <br>\n",
    "    -  A real use case <br>\n",
    "- #### Sorting, Subsetting, Slicing, Splitting and Indexing"
   ]
  },
  {
   "cell_type": "markdown",
   "metadata": {},
   "source": [
    "### Importing NumPy"
   ]
  },
  {
   "cell_type": "markdown",
   "metadata": {},
   "source": [
    "When importing the NumPy library, the convention we'll see used most often – including here – is to name it ```np```, like so:"
   ]
  },
  {
   "cell_type": "code",
   "execution_count": 1,
   "metadata": {},
   "outputs": [],
   "source": [
    "import numpy as np"
   ]
  },
  {
   "cell_type": "markdown",
   "metadata": {},
   "source": [
    "Now we can use the library by prefixing the names of functions and types with ```np.```, which we'll see in the following examples."
   ]
  },
  {
   "cell_type": "markdown",
   "metadata": {},
   "source": [
    "### Data Types and Shapes"
   ]
  },
  {
   "cell_type": "markdown",
   "metadata": {},
   "source": [
    "The most common way to work with numbers in NumPy is through ```ndarray``` objects. They are similar to Python lists, but can have any number of dimensions. Also, ```ndarray``` supports fast math operations, which is just what we want. <br>\n",
    "Since it can store any number of dimensions, we can use ```ndarray```'s to represent any of the data types: **scalars**, **vectors**, **matrices**, or **tensors**."
   ]
  },
  {
   "cell_type": "markdown",
   "metadata": {},
   "source": [
    "### Scalars"
   ]
  },
  {
   "cell_type": "markdown",
   "metadata": {},
   "source": [
    "Scalars in NumPy are a bit more involved than in Python. Instead of Python’s basic types like ```int```, ```float```, etc., NumPy lets we specify signed and unsigned types, as well as different sizes. So instead of Python’s ```int```, we have access to types like ```uint8```, ```int8```, ```uint16```, ```int16```, and so on. <br>\n",
    "These types are important because every object we make (vectors, matrices, tensors) eventually stores scalars. And when we create a NumPy array, we can specify the type - but **every item in the array must have the same type**. In this regard, NumPy arrays are more like C arrays than Python **lists**."
   ]
  },
  {
   "cell_type": "markdown",
   "metadata": {},
   "source": [
    "If we want to create a NumPy array that holds a scalar, we can do so by passing the value to NumPy's array function, like so:"
   ]
  },
  {
   "cell_type": "code",
   "execution_count": 2,
   "metadata": {
    "scrolled": true
   },
   "outputs": [
    {
     "name": "stdout",
     "output_type": "stream",
     "text": [
      "5\n"
     ]
    }
   ],
   "source": [
    "s = np.array(5)\n",
    "print (s)"
   ]
  },
  {
   "cell_type": "markdown",
   "metadata": {},
   "source": [
    "We can see the shape of our arrays by checking their ```shape``` attribute. So if we executed this code:"
   ]
  },
  {
   "cell_type": "code",
   "execution_count": 3,
   "metadata": {},
   "outputs": [
    {
     "name": "stdout",
     "output_type": "stream",
     "text": [
      "()\n"
     ]
    }
   ],
   "source": [
    "print(s.shape)"
   ]
  },
  {
   "cell_type": "markdown",
   "metadata": {},
   "source": [
    "Here, this empty pair of parenthesis, ```()``` indicates that it has zero dimensions."
   ]
  },
  {
   "cell_type": "markdown",
   "metadata": {},
   "source": [
    "Even though scalars are inside arrays, we still use them like a normal scalar. So we could type:"
   ]
  },
  {
   "cell_type": "code",
   "execution_count": 4,
   "metadata": {},
   "outputs": [
    {
     "name": "stdout",
     "output_type": "stream",
     "text": [
      "8\n"
     ]
    }
   ],
   "source": [
    "x = s + 3\n",
    "print(x)"
   ]
  },
  {
   "cell_type": "markdown",
   "metadata": {},
   "source": [
    "If we were to check the type of x, we'd find it is probably ```numpy.int64```, because its working with NumPy types, not Python types."
   ]
  },
  {
   "cell_type": "code",
   "execution_count": 5,
   "metadata": {},
   "outputs": [
    {
     "name": "stdout",
     "output_type": "stream",
     "text": [
      "<class 'numpy.int64'>\n"
     ]
    }
   ],
   "source": [
    "print(type(x))"
   ]
  },
  {
   "cell_type": "markdown",
   "metadata": {},
   "source": [
    "Even scalar types support most of the array functions. so we can call ```x.shape``` and it would return ```()``` because it has zero dimensions, even though it is not an array. If we tried that with a normal Python scalar, we'd get an error."
   ]
  },
  {
   "cell_type": "code",
   "execution_count": 6,
   "metadata": {},
   "outputs": [
    {
     "name": "stdout",
     "output_type": "stream",
     "text": [
      "()\n"
     ]
    },
    {
     "ename": "AttributeError",
     "evalue": "'int' object has no attribute 'shape'",
     "output_type": "error",
     "traceback": [
      "\u001b[0;31m---------------------------------------------------------------------------\u001b[0m",
      "\u001b[0;31mAttributeError\u001b[0m                            Traceback (most recent call last)",
      "\u001b[0;32m<ipython-input-6-e8962549fb4b>\u001b[0m in \u001b[0;36m<module>\u001b[0;34m\u001b[0m\n\u001b[1;32m      1\u001b[0m \u001b[0mprint\u001b[0m\u001b[0;34m(\u001b[0m\u001b[0mx\u001b[0m\u001b[0;34m.\u001b[0m\u001b[0mshape\u001b[0m\u001b[0;34m)\u001b[0m\u001b[0;34m\u001b[0m\u001b[0;34m\u001b[0m\u001b[0m\n\u001b[1;32m      2\u001b[0m \u001b[0mx\u001b[0m \u001b[0;34m=\u001b[0m \u001b[0;36m8\u001b[0m\u001b[0;34m\u001b[0m\u001b[0;34m\u001b[0m\u001b[0m\n\u001b[0;32m----> 3\u001b[0;31m \u001b[0mprint\u001b[0m\u001b[0;34m(\u001b[0m\u001b[0mx\u001b[0m\u001b[0;34m.\u001b[0m\u001b[0mshape\u001b[0m\u001b[0;34m)\u001b[0m\u001b[0;34m\u001b[0m\u001b[0;34m\u001b[0m\u001b[0m\n\u001b[0m",
      "\u001b[0;31mAttributeError\u001b[0m: 'int' object has no attribute 'shape'"
     ]
    }
   ],
   "source": [
    "print(x.shape)\n",
    "x = 8\n",
    "print(x.shape)"
   ]
  },
  {
   "cell_type": "markdown",
   "metadata": {},
   "source": [
    "### Vectors"
   ]
  },
  {
   "cell_type": "markdown",
   "metadata": {},
   "source": [
    "To create a vector, we'd pass a Python list to the array function, like this:"
   ]
  },
  {
   "cell_type": "code",
   "execution_count": 7,
   "metadata": {},
   "outputs": [
    {
     "name": "stdout",
     "output_type": "stream",
     "text": [
      "[1 2 3]\n"
     ]
    }
   ],
   "source": [
    "v = np.array([1,2,3])\n",
    "print (v)"
   ]
  },
  {
   "cell_type": "markdown",
   "metadata": {},
   "source": [
    "If we check a vector's shape attribute, it will return a single number representing the vector's one-dimensional length."
   ]
  },
  {
   "cell_type": "code",
   "execution_count": 8,
   "metadata": {},
   "outputs": [
    {
     "name": "stdout",
     "output_type": "stream",
     "text": [
      "(3,)\n"
     ]
    }
   ],
   "source": [
    "print(v.shape)"
   ]
  },
  {
   "cell_type": "markdown",
   "metadata": {},
   "source": [
    "Now that there is a number, we can see that the shape is a tuple with the sizes of each of the ```ndarray```'s dimensions. For scalars it was just an empty tuple, but vectors have one dimension, so the tuple includes a number and a comma. <br>\n",
    "Python doesn’t understand ```(3)``` as a tuple with one item, so it requires the comma."
   ]
  },
  {
   "cell_type": "markdown",
   "metadata": {},
   "source": [
    "We can access an element within the vector using indices, like this:"
   ]
  },
  {
   "cell_type": "code",
   "execution_count": 9,
   "metadata": {},
   "outputs": [
    {
     "name": "stdout",
     "output_type": "stream",
     "text": [
      "2\n"
     ]
    }
   ],
   "source": [
    "x = v[1]\n",
    "print(x)"
   ]
  },
  {
   "cell_type": "markdown",
   "metadata": {},
   "source": [
    "NumPy also supports advanced indexing techniques. For example, to access the items from the second element onward, we would say:"
   ]
  },
  {
   "cell_type": "code",
   "execution_count": 10,
   "metadata": {
    "scrolled": true
   },
   "outputs": [
    {
     "name": "stdout",
     "output_type": "stream",
     "text": [
      "[2 3]\n"
     ]
    }
   ],
   "source": [
    "print(v[1:])"
   ]
  },
  {
   "cell_type": "markdown",
   "metadata": {},
   "source": [
    "### Matrices"
   ]
  },
  {
   "cell_type": "markdown",
   "metadata": {},
   "source": [
    "We can create matrices using NumPy's array function, similar to that of vectors. However, instead of just passing in a list, we need to supply a list of lists, where each list represents a row. So to create a 3x3 matrix containing the numbers one through nine, we could do this:\n"
   ]
  },
  {
   "cell_type": "code",
   "execution_count": 11,
   "metadata": {},
   "outputs": [
    {
     "name": "stdout",
     "output_type": "stream",
     "text": [
      "m = \n",
      " [[1 2 3]\n",
      " [4 5 6]\n",
      " [7 8 9]]\n",
      "m.shape:  (3, 3)\n"
     ]
    }
   ],
   "source": [
    "m = np.array([[1,2,3], [4,5,6], [7,8,9]])\n",
    "print(\"m = \\n\",m, )\n",
    "print(\"m.shape: \",m.shape)"
   ]
  },
  {
   "cell_type": "markdown",
   "metadata": {},
   "source": [
    "```m``` is thus a ```(3, 3)``` tuple. This indicates that it has two dimensions, each of size 3.\n",
    "We can access elements of matrices just like vectors, but using additional index values. So to find the number 6 in the above matrix, we'd access"
   ]
  },
  {
   "cell_type": "code",
   "execution_count": 12,
   "metadata": {},
   "outputs": [
    {
     "name": "stdout",
     "output_type": "stream",
     "text": [
      "6\n"
     ]
    }
   ],
   "source": [
    "print(m[1][2])"
   ]
  },
  {
   "cell_type": "markdown",
   "metadata": {},
   "source": [
    "Doing the same with a list will give an error:"
   ]
  },
  {
   "cell_type": "code",
   "execution_count": 13,
   "metadata": {},
   "outputs": [
    {
     "name": "stdout",
     "output_type": "stream",
     "text": [
      "m = \n",
      " [[1, 2, 3], [4, 5, 6], [7, 8, 9]]\n"
     ]
    },
    {
     "ename": "AttributeError",
     "evalue": "'list' object has no attribute 'shape'",
     "output_type": "error",
     "traceback": [
      "\u001b[0;31m---------------------------------------------------------------------------\u001b[0m",
      "\u001b[0;31mAttributeError\u001b[0m                            Traceback (most recent call last)",
      "\u001b[0;32m<ipython-input-13-03db22241b3e>\u001b[0m in \u001b[0;36m<module>\u001b[0;34m\u001b[0m\n\u001b[1;32m      1\u001b[0m \u001b[0mm\u001b[0m \u001b[0;34m=\u001b[0m \u001b[0;34m[\u001b[0m\u001b[0;34m[\u001b[0m\u001b[0;36m1\u001b[0m\u001b[0;34m,\u001b[0m\u001b[0;36m2\u001b[0m\u001b[0;34m,\u001b[0m\u001b[0;36m3\u001b[0m\u001b[0;34m]\u001b[0m\u001b[0;34m,\u001b[0m \u001b[0;34m[\u001b[0m\u001b[0;36m4\u001b[0m\u001b[0;34m,\u001b[0m\u001b[0;36m5\u001b[0m\u001b[0;34m,\u001b[0m\u001b[0;36m6\u001b[0m\u001b[0;34m]\u001b[0m\u001b[0;34m,\u001b[0m \u001b[0;34m[\u001b[0m\u001b[0;36m7\u001b[0m\u001b[0;34m,\u001b[0m\u001b[0;36m8\u001b[0m\u001b[0;34m,\u001b[0m\u001b[0;36m9\u001b[0m\u001b[0;34m]\u001b[0m\u001b[0;34m]\u001b[0m\u001b[0;34m\u001b[0m\u001b[0;34m\u001b[0m\u001b[0m\n\u001b[1;32m      2\u001b[0m \u001b[0mprint\u001b[0m\u001b[0;34m(\u001b[0m\u001b[0;34m\"m = \\n\"\u001b[0m\u001b[0;34m,\u001b[0m\u001b[0mm\u001b[0m\u001b[0;34m)\u001b[0m\u001b[0;34m\u001b[0m\u001b[0;34m\u001b[0m\u001b[0m\n\u001b[0;32m----> 3\u001b[0;31m \u001b[0mprint\u001b[0m\u001b[0;34m(\u001b[0m\u001b[0;34m\"m.shape: \"\u001b[0m\u001b[0;34m,\u001b[0m\u001b[0mm\u001b[0m\u001b[0;34m.\u001b[0m\u001b[0mshape\u001b[0m\u001b[0;34m)\u001b[0m\u001b[0;34m\u001b[0m\u001b[0;34m\u001b[0m\u001b[0m\n\u001b[0m",
      "\u001b[0;31mAttributeError\u001b[0m: 'list' object has no attribute 'shape'"
     ]
    }
   ],
   "source": [
    "m = [[1,2,3], [4,5,6], [7,8,9]]\n",
    "print(\"m = \\n\",m)\n",
    "print(\"m.shape: \",m.shape)"
   ]
  },
  {
   "cell_type": "markdown",
   "metadata": {},
   "source": [
    "But, each element can be selected via the same method:"
   ]
  },
  {
   "cell_type": "code",
   "execution_count": 14,
   "metadata": {},
   "outputs": [
    {
     "name": "stdout",
     "output_type": "stream",
     "text": [
      "6\n"
     ]
    }
   ],
   "source": [
    "print(m[1][2])"
   ]
  },
  {
   "cell_type": "markdown",
   "metadata": {},
   "source": [
    "### Tensors"
   ]
  },
  {
   "cell_type": "markdown",
   "metadata": {},
   "source": [
    "Tensors are just like vectors and matrices, **but they can have more dimensions**. For example, to create a 3x3x2x1 tensor, we could do the following:"
   ]
  },
  {
   "cell_type": "code",
   "execution_count": 15,
   "metadata": {},
   "outputs": [],
   "source": [
    "t = np.array([[[[1],[2]],[[3],[4]],[[5],[6]]],\\\n",
    "              [[[7],[8]],[[9],[10]],[[11],[12]]],\\\n",
    "              [[[13],[14]],[[15],[16]],[[17],[18]]]])"
   ]
  },
  {
   "cell_type": "markdown",
   "metadata": {},
   "source": [
    "And ```t.shape``` would return "
   ]
  },
  {
   "cell_type": "code",
   "execution_count": 16,
   "metadata": {},
   "outputs": [
    {
     "name": "stdout",
     "output_type": "stream",
     "text": [
      "(3, 3, 2, 1)\n"
     ]
    }
   ],
   "source": [
    "print(t.shape)"
   ]
  },
  {
   "cell_type": "markdown",
   "metadata": {},
   "source": [
    "We can access items just like with matrices, but with more indices. So ```t[2][1][1][0]``` will return"
   ]
  },
  {
   "cell_type": "code",
   "execution_count": 17,
   "metadata": {},
   "outputs": [
    {
     "name": "stdout",
     "output_type": "stream",
     "text": [
      "16\n"
     ]
    }
   ],
   "source": [
    "print(t[2][1][1][0])"
   ]
  },
  {
   "attachments": {
    "vmt.png": {
     "image/png": "[encoded data removed]"
    }
   },
   "cell_type": "markdown",
   "metadata": {},
   "source": [
    "![vmt.png](attachment:vmt.png)"
   ]
  },
  {
   "cell_type": "markdown",
   "metadata": {},
   "source": [
    "There is also a function called ```size``` which returns the total number of elements in an array. So for ```t```"
   ]
  },
  {
   "cell_type": "code",
   "execution_count": 18,
   "metadata": {},
   "outputs": [
    {
     "name": "stdout",
     "output_type": "stream",
     "text": [
      "18\n"
     ]
    }
   ],
   "source": [
    "print(t.size)"
   ]
  },
  {
   "cell_type": "markdown",
   "metadata": {},
   "source": [
    "And we can clearly see from the figure above that the total number of elements in ```t``` are, as a matter of fact, 18."
   ]
  },
  {
   "cell_type": "markdown",
   "metadata": {},
   "source": [
    "### Changing Shapes <br>\n",
    "Sometimes we'll need to change the shape of our data without actually changing its contents. For example, we may have a vector, which is one-dimensional, but need a matrix, which is two-dimensional. There are two ways we can do that."
   ]
  },
  {
   "cell_type": "markdown",
   "metadata": {},
   "source": [
    "Let's say we have the following vector:"
   ]
  },
  {
   "cell_type": "code",
   "execution_count": 19,
   "metadata": {},
   "outputs": [],
   "source": [
    "v = np.array([1,2,3,4])"
   ]
  },
  {
   "cell_type": "markdown",
   "metadata": {},
   "source": [
    "Calling v.shape would return "
   ]
  },
  {
   "cell_type": "code",
   "execution_count": 20,
   "metadata": {},
   "outputs": [
    {
     "name": "stdout",
     "output_type": "stream",
     "text": [
      "(4,)\n"
     ]
    }
   ],
   "source": [
    "print(v.shape)"
   ]
  },
  {
   "cell_type": "markdown",
   "metadata": {},
   "source": [
    "But what if we want a 1x4 matrix? We can accomplish that with the reshape function, like so:"
   ]
  },
  {
   "cell_type": "code",
   "execution_count": 21,
   "metadata": {},
   "outputs": [],
   "source": [
    "x = v.reshape(1,4)"
   ]
  },
  {
   "cell_type": "markdown",
   "metadata": {},
   "source": [
    "Calling x.shape would return "
   ]
  },
  {
   "cell_type": "code",
   "execution_count": 22,
   "metadata": {},
   "outputs": [
    {
     "name": "stdout",
     "output_type": "stream",
     "text": [
      "(1, 4)\n"
     ]
    }
   ],
   "source": [
    "print(x.shape)"
   ]
  },
  {
   "cell_type": "code",
   "execution_count": 24,
   "metadata": {},
   "outputs": [
    {
     "name": "stdout",
     "output_type": "stream",
     "text": [
      "[[1]\n",
      " [2]\n",
      " [3]\n",
      " [4]]\n"
     ]
    }
   ],
   "source": [
    "print(x)"
   ]
  },
  {
   "cell_type": "markdown",
   "metadata": {},
   "source": [
    "Now, If we wanted a 4x1 matrix, we could do this:"
   ]
  },
  {
   "cell_type": "code",
   "execution_count": 25,
   "metadata": {},
   "outputs": [
    {
     "name": "stdout",
     "output_type": "stream",
     "text": [
      "(4, 1)\n",
      "[[1]\n",
      " [2]\n",
      " [3]\n",
      " [4]]\n"
     ]
    }
   ],
   "source": [
    "x = v.reshape(4,1)\n",
    "print(x.shape)\n",
    "print(x)"
   ]
  },
  {
   "cell_type": "markdown",
   "metadata": {},
   "source": [
    "For a 2x2 matrix:"
   ]
  },
  {
   "cell_type": "code",
   "execution_count": 26,
   "metadata": {},
   "outputs": [
    {
     "name": "stdout",
     "output_type": "stream",
     "text": [
      "(2, 2)\n",
      "[[1 2]\n",
      " [3 4]]\n"
     ]
    }
   ],
   "source": [
    "x = v.reshape(2,2)\n",
    "print(x.shape)\n",
    "print(x)"
   ]
  },
  {
   "cell_type": "markdown",
   "metadata": {},
   "source": [
    "One more thing about reshaping NumPy arrays: if we see code from experienced NumPy users, we will often see them use a special slicing syntax instead of calling reshape. Using this syntax, the previous two examples would look like this:"
   ]
  },
  {
   "cell_type": "code",
   "execution_count": 142,
   "metadata": {},
   "outputs": [
    {
     "name": "stdout",
     "output_type": "stream",
     "text": [
      "(1, 4)\n"
     ]
    }
   ],
   "source": [
    "x = v[None, :]\n",
    "print(x.shape)"
   ]
  },
  {
   "cell_type": "markdown",
   "metadata": {},
   "source": [
    "     or"
   ]
  },
  {
   "cell_type": "code",
   "execution_count": 143,
   "metadata": {},
   "outputs": [
    {
     "name": "stdout",
     "output_type": "stream",
     "text": [
      "(4, 1)\n"
     ]
    }
   ],
   "source": [
    "x = v[:, None]\n",
    "print(x.shape)"
   ]
  },
  {
   "cell_type": "markdown",
   "metadata": {},
   "source": [
    "These lines create a slice that looks at all of the items of v but asks NumPy to add a new dimension of size 1 for the associated axis. It may look strange to us now, but it's a common technique so it's good to be aware of it."
   ]
  },
  {
   "cell_type": "markdown",
   "metadata": {},
   "source": [
    "Now, let's suppose we have a matrix ```A```"
   ]
  },
  {
   "cell_type": "code",
   "execution_count": 28,
   "metadata": {},
   "outputs": [
    {
     "name": "stdout",
     "output_type": "stream",
     "text": [
      "[[ 1  2  3  4]\n",
      " [ 5  6  7  8]\n",
      " [ 9 10 11 12]]\n"
     ]
    }
   ],
   "source": [
    "A = np.array([[1,2,3,4],[5,6,7,8],[9,10,11,12]])\n",
    "print(A)"
   ]
  },
  {
   "cell_type": "markdown",
   "metadata": {},
   "source": [
    "and we need to reshape it to a 2x6 matrix. We could do this:"
   ]
  },
  {
   "cell_type": "code",
   "execution_count": 29,
   "metadata": {},
   "outputs": [
    {
     "name": "stdout",
     "output_type": "stream",
     "text": [
      "[[ 1  2  3  4  5  6]\n",
      " [ 7  8  9 10 11 12]]\n"
     ]
    }
   ],
   "source": [
    "x = A.reshape(2,6)\n",
    "print(x)"
   ]
  },
  {
   "cell_type": "markdown",
   "metadata": {},
   "source": [
    "And if we want to take the tensor ```t``` and reshape it to a 6x3 matrix, we can also do that"
   ]
  },
  {
   "cell_type": "code",
   "execution_count": 30,
   "metadata": {},
   "outputs": [
    {
     "name": "stdout",
     "output_type": "stream",
     "text": [
      "t.shape is  (3, 3, 2, 1) \n",
      "\n",
      "x = \n",
      " [[ 1  2  3]\n",
      " [ 4  5  6]\n",
      " [ 7  8  9]\n",
      " [10 11 12]\n",
      " [13 14 15]\n",
      " [16 17 18]]\n",
      "x.shape is  (6, 3) \n",
      "\n"
     ]
    }
   ],
   "source": [
    "t = np.array([[[[1],[2]],[[3],[4]],[[5],[6]]],[[[7],[8]],\\\n",
    "    [[9],[10]],[[11],[12]]],[[[13],[14]],[[15],[16]],[[17],[18]]]])\n",
    "print(\"t.shape is \",t.shape,\"\\n\")\n",
    "x = t.reshape(6,3)\n",
    "print(\"x = \\n\",x)\n",
    "print(\"x.shape is \",x.shape,\"\\n\")"
   ]
  },
  {
   "cell_type": "markdown",
   "metadata": {},
   "source": [
    "The thing to note here is that ```ndarray```'s can be shaped to any shape as long as the total number of tensor elements remain the same. For example"
   ]
  },
  {
   "cell_type": "code",
   "execution_count": 31,
   "metadata": {},
   "outputs": [
    {
     "name": "stdout",
     "output_type": "stream",
     "text": [
      "[[1 2 3]\n",
      " [4 5 6]\n",
      " [7 8 9]] \n",
      "\n"
     ]
    },
    {
     "ename": "ValueError",
     "evalue": "cannot reshape array of size 9 into shape (2,4)",
     "output_type": "error",
     "traceback": [
      "\u001b[0;31m---------------------------------------------------------------------------\u001b[0m",
      "\u001b[0;31mValueError\u001b[0m                                Traceback (most recent call last)",
      "\u001b[0;32m<ipython-input-31-5ff686e81a33>\u001b[0m in \u001b[0;36m<module>\u001b[0;34m\u001b[0m\n\u001b[1;32m      1\u001b[0m \u001b[0mm\u001b[0m \u001b[0;34m=\u001b[0m \u001b[0mnp\u001b[0m\u001b[0;34m.\u001b[0m\u001b[0marray\u001b[0m\u001b[0;34m(\u001b[0m\u001b[0;34m[\u001b[0m\u001b[0;34m[\u001b[0m\u001b[0;36m1\u001b[0m\u001b[0;34m,\u001b[0m\u001b[0;36m2\u001b[0m\u001b[0;34m,\u001b[0m\u001b[0;36m3\u001b[0m\u001b[0;34m]\u001b[0m\u001b[0;34m,\u001b[0m \u001b[0;34m[\u001b[0m\u001b[0;36m4\u001b[0m\u001b[0;34m,\u001b[0m\u001b[0;36m5\u001b[0m\u001b[0;34m,\u001b[0m\u001b[0;36m6\u001b[0m\u001b[0;34m]\u001b[0m\u001b[0;34m,\u001b[0m \u001b[0;34m[\u001b[0m\u001b[0;36m7\u001b[0m\u001b[0;34m,\u001b[0m\u001b[0;36m8\u001b[0m\u001b[0;34m,\u001b[0m\u001b[0;36m9\u001b[0m\u001b[0;34m]\u001b[0m\u001b[0;34m]\u001b[0m\u001b[0;34m)\u001b[0m\u001b[0;34m\u001b[0m\u001b[0;34m\u001b[0m\u001b[0m\n\u001b[1;32m      2\u001b[0m \u001b[0mprint\u001b[0m\u001b[0;34m(\u001b[0m\u001b[0mm\u001b[0m\u001b[0;34m,\u001b[0m \u001b[0;34m\"\\n\"\u001b[0m\u001b[0;34m)\u001b[0m\u001b[0;34m\u001b[0m\u001b[0;34m\u001b[0m\u001b[0m\n\u001b[0;32m----> 3\u001b[0;31m \u001b[0mx\u001b[0m \u001b[0;34m=\u001b[0m \u001b[0mm\u001b[0m\u001b[0;34m.\u001b[0m\u001b[0mreshape\u001b[0m\u001b[0;34m(\u001b[0m\u001b[0;36m2\u001b[0m\u001b[0;34m,\u001b[0m\u001b[0;36m4\u001b[0m\u001b[0;34m)\u001b[0m\u001b[0;34m\u001b[0m\u001b[0;34m\u001b[0m\u001b[0m\n\u001b[0m",
      "\u001b[0;31mValueError\u001b[0m: cannot reshape array of size 9 into shape (2,4)"
     ]
    }
   ],
   "source": [
    "m = np.array([[1,2,3], [4,5,6], [7,8,9]])\n",
    "print(m, \"\\n\")\n",
    "x = m.reshape(2,4)"
   ]
  },
  {
   "cell_type": "markdown",
   "metadata": {},
   "source": [
    "Here, the matrix ```m``` has a size ```(3,3)``` where as ```m.reshape(2,4)``` is asking it to be rearranged to a dimension ```(2,4)``` which is not possible to do."
   ]
  },
  {
   "cell_type": "markdown",
   "metadata": {},
   "source": [
    "### Commonly used initializations"
   ]
  },
  {
   "cell_type": "markdown",
   "metadata": {},
   "source": [
    "Many a times typing a ```np.array``` becomes a tedious task. To facilitate in this difficulty, NumPy provides ways to initialize bigger arrays with simple functions."
   ]
  },
  {
   "cell_type": "code",
   "execution_count": 32,
   "metadata": {},
   "outputs": [
    {
     "name": "stdout",
     "output_type": "stream",
     "text": [
      "[[0. 0. 0. 0.]\n",
      " [0. 0. 0. 0.]\n",
      " [0. 0. 0. 0.]]\n"
     ]
    }
   ],
   "source": [
    "a = np.zeros((3,4))\n",
    "print(a)"
   ]
  },
  {
   "cell_type": "markdown",
   "metadata": {},
   "source": [
    "Thus ```np.zeros((3,4))``` initializes a NumPy array having dimensions 3x4 and all element values equal to ```0```'s"
   ]
  },
  {
   "cell_type": "markdown",
   "metadata": {},
   "source": [
    "Similarly the ```np.ones()``` function will create a matrix of the desired dimensions with all element values equal to ```1```"
   ]
  },
  {
   "cell_type": "code",
   "execution_count": 33,
   "metadata": {},
   "outputs": [
    {
     "name": "stdout",
     "output_type": "stream",
     "text": [
      "[[[1. 1.]\n",
      "  [1. 1.]]\n",
      "\n",
      " [[1. 1.]\n",
      "  [1. 1.]]\n",
      "\n",
      " [[1. 1.]\n",
      "  [1. 1.]]]\n"
     ]
    }
   ],
   "source": [
    "a = np.ones((3,2,2))\n",
    "print(a)"
   ]
  },
  {
   "cell_type": "markdown",
   "metadata": {},
   "source": [
    "NumPy also provides us with the option of randomly initializing the element values in it's arrays. The ```np.random.rand()``` function creates an array of the given shape and populates it with random samples from a uniform distribution over ```[0, 1)```."
   ]
  },
  {
   "cell_type": "code",
   "execution_count": 34,
   "metadata": {},
   "outputs": [
    {
     "name": "stdout",
     "output_type": "stream",
     "text": [
      "[[0.68666076 0.55353966 0.81800272 0.42326141 0.1440069 ]\n",
      " [0.95556573 0.00272877 0.81989428 0.10383176 0.69905176]\n",
      " [0.94167337 0.42347822 0.04548321 0.97497013 0.51043752]]\n"
     ]
    }
   ],
   "source": [
    "a = np.random.rand(3,5)\n",
    "print(a)"
   ]
  },
  {
   "cell_type": "markdown",
   "metadata": {},
   "source": [
    "And, the ```np.random.randn()``` does the same but with samples taken from a normal distribution given by $  \\frac{1}{{\\sigma \\sqrt {2\\pi } }}e^{{(x-\\mu)}^2 / 2\\sigma^2 } $ having mean ($\\mu$) 0 and variance ($\\sigma^2$) 1."
   ]
  },
  {
   "cell_type": "code",
   "execution_count": 35,
   "metadata": {},
   "outputs": [
    {
     "name": "stdout",
     "output_type": "stream",
     "text": [
      "0.0001302582641866097\n",
      "1.0022108824524836\n"
     ]
    }
   ],
   "source": [
    "a = np.random.randn(2000,2000)\n",
    "a\n",
    "print(a.mean()) # For a large enough array, this value converges to 0\n",
    "print(np.std(a)**2) # For a large enough array this value converges to 1"
   ]
  },
  {
   "cell_type": "markdown",
   "metadata": {},
   "source": [
    "## Element-wise operations"
   ]
  },
  {
   "cell_type": "markdown",
   "metadata": {},
   "source": [
    "### The Python way"
   ]
  },
  {
   "cell_type": "markdown",
   "metadata": {},
   "source": [
    "Suppose we had a list of numbers, and we wanted to add 5 to every item in the list. Without NumPy, we might do something like this:"
   ]
  },
  {
   "cell_type": "code",
   "execution_count": 36,
   "metadata": {
    "scrolled": false
   },
   "outputs": [
    {
     "name": "stdout",
     "output_type": "stream",
     "text": [
      "[6, 7, 8, 9, 10]\n"
     ]
    }
   ],
   "source": [
    "values = [1,2,3,4,5]\n",
    "for i in range(len(values)):\n",
    "    values[i] += 5\n",
    "print(values)"
   ]
  },
  {
   "cell_type": "markdown",
   "metadata": {},
   "source": [
    "That makes sense, but it's a lot of code to write and it runs slowly because it's pure Python. <br> <br>\n",
    "**Note:** Just in case we aren't used to using operators like +=, that just means \"*add these two items and then store the result in the left item.*\" It is a more succinct way of writing ```values[i] = values[i] + 5```."
   ]
  },
  {
   "cell_type": "markdown",
   "metadata": {},
   "source": [
    "### The NumPy way"
   ]
  },
  {
   "cell_type": "markdown",
   "metadata": {},
   "source": [
    "In NumPy, we could do the following:"
   ]
  },
  {
   "cell_type": "code",
   "execution_count": 37,
   "metadata": {},
   "outputs": [
    {
     "name": "stdout",
     "output_type": "stream",
     "text": [
      "[ 6  7  8  9 10]\n"
     ]
    }
   ],
   "source": [
    "values = [1,2,3,4,5]\n",
    "values = np.array(values) +5\n",
    "print(values)"
   ]
  },
  {
   "cell_type": "markdown",
   "metadata": {},
   "source": [
    "Creating that array may seem odd, but normally we'll be storing our data in ndarrays anyway. So if we already had an ```ndarray``` named values, we could have just done:"
   ]
  },
  {
   "cell_type": "code",
   "execution_count": 38,
   "metadata": {},
   "outputs": [
    {
     "name": "stdout",
     "output_type": "stream",
     "text": [
      "[1 2 3 4 5]\n",
      "[ 6  7  8  9 10]\n"
     ]
    }
   ],
   "source": [
    "values -= 5     #back to the original values\n",
    "print(values)\n",
    "values += 5\n",
    "print(values)"
   ]
  },
  {
   "cell_type": "markdown",
   "metadata": {},
   "source": [
    "We should point out, NumPy actually has functions for things like adding, multiplying, etc. But it also supports using the standard math operators. So the following two lines are equivalent:"
   ]
  },
  {
   "cell_type": "code",
   "execution_count": 39,
   "metadata": {},
   "outputs": [
    {
     "name": "stdout",
     "output_type": "stream",
     "text": [
      "[30 35 40 45 50]\n",
      "[30 35 40 45 50]\n"
     ]
    }
   ],
   "source": [
    "x = np.multiply(values, 5)\n",
    "print(x)\n",
    "x = values * 5\n",
    "print(x)"
   ]
  },
  {
   "cell_type": "markdown",
   "metadata": {},
   "source": [
    "We will usually use the operators instead of the functions because they are more convenient to type and easier to read, but it's really just personal preference."
   ]
  },
  {
   "cell_type": "markdown",
   "metadata": {},
   "source": [
    "One more example of operating with scalars and ndarrays. Let's say we have a matrix m and we want to reuse it, but first we need to set all its values to zero. Easy, just multiply by zero and assign the result back to the matrix, like this:"
   ]
  },
  {
   "cell_type": "code",
   "execution_count": 40,
   "metadata": {},
   "outputs": [
    {
     "name": "stdout",
     "output_type": "stream",
     "text": [
      "[[1 2 3]\n",
      " [4 5 6]\n",
      " [7 8 9]]\n",
      "[[0 0 0]\n",
      " [0 0 0]\n",
      " [0 0 0]]\n"
     ]
    }
   ],
   "source": [
    "m = np.array([[1,2,3],[4,5,6],[7,8,9]])\n",
    "print(m)\n",
    "m *= 0\n",
    "print(m)"
   ]
  },
  {
   "cell_type": "markdown",
   "metadata": {},
   "source": [
    "### Element-wise Matrix Operations\n",
    "The same functions and operators that work with scalars and matrices also work with other dimensions. We just need to make sure that the items we perform the operation on have compatible shapes.\n",
    "Let's say we want to get the squared values of a matrix. That's simply ```x = m * m``` (or if we want to assign the value back to m, it's just ```m *= m``` <br>\n",
    "This works because it's an element-wise multiplication between two identically-shaped matrices. (In this case, they are shaped the same because they are actually the same object.) <br> <br>\n",
    "Let's look at the following example:"
   ]
  },
  {
   "cell_type": "code",
   "execution_count": 41,
   "metadata": {},
   "outputs": [
    {
     "name": "stdout",
     "output_type": "stream",
     "text": [
      "a = \n",
      " [[1 3]\n",
      " [5 7]] \n",
      "\n",
      "a_list = \n",
      " [[1, 3], [5, 7]] \n",
      "\n",
      "b = \n",
      " [[2 4]\n",
      " [6 8]] \n",
      "\n",
      "b_list = \n",
      " [[2, 4], [6, 8]] \n",
      "\n",
      "a + b = \n",
      " [[ 3  7]\n",
      " [11 15]] \n",
      "\n",
      "a_list + b_list = \n",
      " [[1, 3], [5, 7], [2, 4], [6, 8]] \n",
      "\n"
     ]
    }
   ],
   "source": [
    "a = np.array([[1,3],[5,7]])\n",
    "a_list = [[1,3],[5,7]]\n",
    "print(\"a = \\n\",a,\"\\n\")\n",
    "print(\"a_list = \\n\",a_list,\"\\n\")\n",
    "\n",
    "b = np.array([[2,4],[6,8]])\n",
    "b_list = [[2,4],[6,8]]\n",
    "print(\"b = \\n\",b,\"\\n\")\n",
    "print(\"b_list = \\n\",b_list,\"\\n\")\n",
    "\n",
    "print(\"a + b = \\n\",a + b,\"\\n\")\n",
    "print(\"a_list + b_list = \\n\",a_list + b_list,\"\\n\")"
   ]
  },
  {
   "cell_type": "markdown",
   "metadata": {},
   "source": [
    "We can see that simple lists yield quite a different result. <br>\n",
    "And, if we try working with incompatible shapes we'd get an error:"
   ]
  },
  {
   "cell_type": "code",
   "execution_count": 42,
   "metadata": {},
   "outputs": [
    {
     "name": "stdout",
     "output_type": "stream",
     "text": [
      "a = \n",
      " [[1 3]\n",
      " [5 7]] \n",
      "\n",
      "c = \n",
      " [[2 3 6]\n",
      " [4 5 9]\n",
      " [1 8 7]] \n",
      "\n",
      "a.shape:  (2, 2)\n",
      "c.shape:  (3, 3) \n",
      "\n"
     ]
    },
    {
     "ename": "ValueError",
     "evalue": "operands could not be broadcast together with shapes (2,2) (3,3) ",
     "output_type": "error",
     "traceback": [
      "\u001b[0;31m---------------------------------------------------------------------------\u001b[0m",
      "\u001b[0;31mValueError\u001b[0m                                Traceback (most recent call last)",
      "\u001b[0;32m<ipython-input-42-f87062ab7f95>\u001b[0m in \u001b[0;36m<module>\u001b[0;34m\u001b[0m\n\u001b[1;32m      8\u001b[0m \u001b[0mprint\u001b[0m\u001b[0;34m(\u001b[0m\u001b[0;34m\"c.shape: \"\u001b[0m\u001b[0;34m,\u001b[0m\u001b[0mc\u001b[0m\u001b[0;34m.\u001b[0m\u001b[0mshape\u001b[0m\u001b[0;34m,\u001b[0m\u001b[0;34m\"\\n\"\u001b[0m\u001b[0;34m)\u001b[0m\u001b[0;34m\u001b[0m\u001b[0;34m\u001b[0m\u001b[0m\n\u001b[1;32m      9\u001b[0m \u001b[0;34m\u001b[0m\u001b[0m\n\u001b[0;32m---> 10\u001b[0;31m \u001b[0mprint\u001b[0m\u001b[0;34m(\u001b[0m\u001b[0;34m\"a + c = \\n\"\u001b[0m\u001b[0;34m,\u001b[0m\u001b[0ma\u001b[0m \u001b[0;34m+\u001b[0m \u001b[0mc\u001b[0m\u001b[0;34m)\u001b[0m\u001b[0;34m\u001b[0m\u001b[0;34m\u001b[0m\u001b[0m\n\u001b[0m",
      "\u001b[0;31mValueError\u001b[0m: operands could not be broadcast together with shapes (2,2) (3,3) "
     ]
    }
   ],
   "source": [
    "a = np.array([[1,3],[5,7]])\n",
    "print(\"a = \\n\",a,\"\\n\") \n",
    "\n",
    "c = np.array([[2,3,6],[4,5,9],[1,8,7]])\n",
    "print(\"c = \\n\",c,\"\\n\")\n",
    "\n",
    "print(\"a.shape: \",a.shape)\n",
    "print(\"c.shape: \",c.shape,\"\\n\")\n",
    "\n",
    "print(\"a + c = \\n\",a + c)\n"
   ]
  },
  {
   "cell_type": "markdown",
   "metadata": {},
   "source": [
    "## NumPy Matrix Multiplication\n",
    "Now we'll talk about how to do matrix multiplication with NumPy. It's important to know that NumPy supports several types of matrix multiplication."
   ]
  },
  {
   "cell_type": "markdown",
   "metadata": {},
   "source": [
    "### Element-wise Multiplication\n",
    "We have seen some element-wise multiplication already. we can also accomplish that with the ```multiply``` function or the ```*``` operator. Just to revisit, it would look like this:\n"
   ]
  },
  {
   "cell_type": "code",
   "execution_count": 43,
   "metadata": {},
   "outputs": [
    {
     "name": "stdout",
     "output_type": "stream",
     "text": [
      "m = \n",
      " [[1 2 3]\n",
      " [4 5 6]] \n",
      "\n",
      "n = \n",
      " [[0.25 0.5  0.75]\n",
      " [1.   1.25 1.5 ]] \n",
      "\n",
      "m * n = \n",
      " [[0.25 1.   2.25]\n",
      " [4.   6.25 9.  ]] \n",
      "\n",
      "np.multiply(m, n)= \n",
      " [[0.25 1.   2.25]\n",
      " [4.   6.25 9.  ]]\n"
     ]
    }
   ],
   "source": [
    "m = np.array([[1,2,3],[4,5,6]])\n",
    "print(\"m = \\n\",m,\"\\n\")\n",
    "\n",
    "n = m * 0.25\n",
    "print(\"n = \\n\",n,\"\\n\")\n",
    "\n",
    "print(\"m * n = \\n\",m * n,\"\\n\")\n",
    "\n",
    "print(\"np.multiply(m, n)= \\n\",np.multiply(m, n))"
   ]
  },
  {
   "cell_type": "markdown",
   "metadata": {},
   "source": [
    "### Matrix Product\n",
    "To find the matrix product, we use NumPy's ```matmul``` function. This operation is exclusive for NumPy arrays <br>\n",
    "If we have compatible shapes, then it's as simple as this:"
   ]
  },
  {
   "cell_type": "code",
   "execution_count": 44,
   "metadata": {},
   "outputs": [
    {
     "name": "stdout",
     "output_type": "stream",
     "text": [
      "a = \n",
      " [[1 2 3 4]\n",
      " [5 6 7 8]]\n",
      "a.shape:  (2, 4) \n",
      "\n",
      "b = \n",
      " [[ 1  2  3]\n",
      " [ 4  5  6]\n",
      " [ 7  8  9]\n",
      " [10 11 12]]\n",
      "b.shape:  (4, 3) \n",
      "\n",
      "c = \n",
      " [[ 70  80  90]\n",
      " [158 184 210]]\n",
      "c.shape:  (2, 3) \n",
      "\n"
     ]
    }
   ],
   "source": [
    "a = np.array([[1,2,3,4],[5,6,7,8]])\n",
    "print(\"a = \\n\",a)\n",
    "print(\"a.shape: \",a.shape, \"\\n\")\n",
    "\n",
    "b = np.array([[1,2,3],[4,5,6],[7,8,9],[10,11,12]])\n",
    "print(\"b = \\n\",b)\n",
    "print(\"b.shape: \", b.shape, \"\\n\")\n",
    "\n",
    "c = np.matmul(a, b) # (2,4)*(4,3)\n",
    "print(\"c = \\n\",c)\n",
    "print(\"c.shape: \",c.shape,\"\\n\")"
   ]
  },
  {
   "cell_type": "markdown",
   "metadata": {},
   "source": [
    "If our matrices have incompatible shapes, we'll get an error, like the following:"
   ]
  },
  {
   "cell_type": "code",
   "execution_count": 45,
   "metadata": {},
   "outputs": [
    {
     "ename": "ValueError",
     "evalue": "matmul: Input operand 1 has a mismatch in its core dimension 0, with gufunc signature (n?,k),(k,m?)->(n?,m?) (size 2 is different from 3)",
     "output_type": "error",
     "traceback": [
      "\u001b[0;31m---------------------------------------------------------------------------\u001b[0m",
      "\u001b[0;31mValueError\u001b[0m                                Traceback (most recent call last)",
      "\u001b[0;32m<ipython-input-45-af3b88aa2232>\u001b[0m in \u001b[0;36m<module>\u001b[0;34m\u001b[0m\n\u001b[0;32m----> 1\u001b[0;31m \u001b[0mnp\u001b[0m\u001b[0;34m.\u001b[0m\u001b[0mmatmul\u001b[0m\u001b[0;34m(\u001b[0m\u001b[0mb\u001b[0m\u001b[0;34m,\u001b[0m \u001b[0ma\u001b[0m\u001b[0;34m)\u001b[0m\u001b[0;34m\u001b[0m\u001b[0;34m\u001b[0m\u001b[0m\n\u001b[0m",
      "\u001b[0;31mValueError\u001b[0m: matmul: Input operand 1 has a mismatch in its core dimension 0, with gufunc signature (n?,k),(k,m?)->(n?,m?) (size 2 is different from 3)"
     ]
    }
   ],
   "source": [
    "np.matmul(b, a)"
   ]
  },
  {
   "cell_type": "markdown",
   "metadata": {},
   "source": [
    "This is because for matrices $a.b \\neq b.a  $ "
   ]
  },
  {
   "cell_type": "markdown",
   "metadata": {},
   "source": [
    "### NumPy's ```dot``` function\n",
    "We may sometimes see NumPy's ```dot``` function in places where we would expect a ```matmul```. It turns out that the results of ```dot``` and ```matmul``` are the same if the matrices are two dimensional. <br>\n",
    "So these two results are equivalent:"
   ]
  },
  {
   "cell_type": "code",
   "execution_count": 46,
   "metadata": {},
   "outputs": [
    {
     "name": "stdout",
     "output_type": "stream",
     "text": [
      "a = \n",
      " [[1 2]\n",
      " [3 4]] \n",
      "\n",
      "np.dot(a,a) = \n",
      " [[ 7 10]\n",
      " [15 22]] \n",
      "\n",
      "a.dot(a) = \n",
      " [[ 7 10]\n",
      " [15 22]] \n",
      "\n",
      "np.matmul(a,a) = \n",
      " [[ 7 10]\n",
      " [15 22]] \n",
      "\n"
     ]
    }
   ],
   "source": [
    "a = np.array([[1,2],[3,4]])\n",
    "print(\"a = \\n\",a,\"\\n\")\n",
    "\n",
    "print(\"np.dot(a,a) = \\n\",np.dot(a,a),\"\\n\")\n",
    "\n",
    "print(\"a.dot(a) = \\n\",a.dot(a),\"\\n\")  # you can call `dot` directly on the `ndarray`\n",
    "\n",
    "print(\"np.matmul(a,a) = \\n\",np.matmul(a,a),\"\\n\")"
   ]
  },
  {
   "cell_type": "markdown",
   "metadata": {},
   "source": [
    "While these functions return the same results for two dimensional data, we should be careful about which we choose when working with other data shapes."
   ]
  },
  {
   "cell_type": "markdown",
   "metadata": {},
   "source": [
    "### Transpose\n",
    "Getting the transpose of a matrix is really easy in NumPy. Simply access its ```T``` attribute. There is also a ```transpose()``` function which returns the same thing, but we’ll rarely see that used anywhere because typing ```T``` is much easier.\n",
    "For example:"
   ]
  },
  {
   "cell_type": "code",
   "execution_count": 53,
   "metadata": {},
   "outputs": [
    {
     "name": "stdout",
     "output_type": "stream",
     "text": [
      "m =\n",
      " [[ 1  2  3  4]\n",
      " [ 5  6  7  8]\n",
      " [ 9 10 11 12]] \n",
      "\n",
      "m.T = \n",
      " [[ 1  5  9]\n",
      " [ 2  6 10]\n",
      " [ 3  7 11]\n",
      " [ 4  8 12]]\n"
     ]
    }
   ],
   "source": [
    "m = np.array([[1,2,3,4], [5,6,7,8], [9,10,11,12]])\n",
    "print(\"m =\\n\",m,\"\\n\")\n",
    "\n",
    "print(\"m.T = \\n\",m.T)"
   ]
  },
  {
   "cell_type": "markdown",
   "metadata": {},
   "source": [
    "NumPy does this without actually moving any data in memory - it simply changes the way it indexes the original matrix - so it’s quite efficient."
   ]
  },
  {
   "cell_type": "markdown",
   "metadata": {},
   "source": [
    "However, that also means we need to be careful with how we modify objects, because **they are sharing the same data**. For example, with the same matrix ```m``` from above, let's make a new variable ```m_t``` that stores ```m```'s transpose. Then look what happens if we modify a value in ```m_t```:"
   ]
  },
  {
   "cell_type": "code",
   "execution_count": 54,
   "metadata": {},
   "outputs": [
    {
     "name": "stdout",
     "output_type": "stream",
     "text": [
      "m_t = \n",
      " [[  1   5   9]\n",
      " [  2   6  10]\n",
      " [  3   7  11]\n",
      " [  4 200  12]] \n",
      "\n",
      "m = \n",
      " [[  1   2   3   4]\n",
      " [  5   6   7 200]\n",
      " [  9  10  11  12]]\n"
     ]
    }
   ],
   "source": [
    "m_t = m.T\n",
    "m_t[3][1] = 200\n",
    "print(\"m_t = \\n\",m_t, \"\\n\")\n",
    "\n",
    "print(\"m = \\n\",m)"
   ]
  },
  {
   "cell_type": "markdown",
   "metadata": {},
   "source": [
    "Notice how it modified both the transpose and the original matrix, too! That's because they are sharing the same copy of data. So remember to consider the transpose just as a different view of we matrix, rather than a different matrix entirely."
   ]
  },
  {
   "cell_type": "markdown",
   "metadata": {},
   "source": [
    "### A real use case\n",
    "I don't want to get into too many details about neural networks because we haven't covered them yet, but there is one place we will almost certainly end up using a transpose, or at least thinking about it."
   ]
  },
  {
   "cell_type": "markdown",
   "metadata": {},
   "source": [
    "Let's say we have the following two matrices, called ```inputs``` and ```weights```,"
   ]
  },
  {
   "cell_type": "code",
   "execution_count": 55,
   "metadata": {},
   "outputs": [
    {
     "name": "stdout",
     "output_type": "stream",
     "text": [
      "inputs = \n",
      " [[-0.27  0.45  0.64  0.31]]\n",
      "inputs.shape:  (1, 4) \n",
      "\n",
      "weights = \n",
      " [[ 0.02   0.001 -0.03   0.036]\n",
      " [ 0.04  -0.003  0.025  0.009]\n",
      " [ 0.012 -0.045  0.28  -0.067]]\n",
      "weights.shape:  (3, 4) \n",
      "\n"
     ]
    }
   ],
   "source": [
    "inputs = np.array([[-0.27,  0.45,  0.64, 0.31]])\n",
    "print(\"inputs = \\n\",inputs)\n",
    "\n",
    "print(\"inputs.shape: \",inputs.shape, \"\\n\")\n",
    "\n",
    "weights = np.array([[0.02, 0.001, -0.03, 0.036], \\\n",
    "    [0.04, -0.003, 0.025, 0.009], [0.012, -0.045, 0.28, -0.067]])\n",
    "\n",
    "print(\"weights = \\n\",weights)\n",
    "\n",
    "print(\"weights.shape: \",weights.shape, \"\\n\")"
   ]
  },
  {
   "cell_type": "markdown",
   "metadata": {},
   "source": [
    "If we try it like they are now, we get an error:"
   ]
  },
  {
   "cell_type": "code",
   "execution_count": 56,
   "metadata": {},
   "outputs": [
    {
     "ename": "ValueError",
     "evalue": "matmul: Input operand 1 has a mismatch in its core dimension 0, with gufunc signature (n?,k),(k,m?)->(n?,m?) (size 3 is different from 4)",
     "output_type": "error",
     "traceback": [
      "\u001b[0;31m---------------------------------------------------------------------------\u001b[0m",
      "\u001b[0;31mValueError\u001b[0m                                Traceback (most recent call last)",
      "\u001b[0;32m<ipython-input-56-0b7fc9ac95bc>\u001b[0m in \u001b[0;36m<module>\u001b[0;34m\u001b[0m\n\u001b[0;32m----> 1\u001b[0;31m \u001b[0mprint\u001b[0m\u001b[0;34m(\u001b[0m\u001b[0mnp\u001b[0m\u001b[0;34m.\u001b[0m\u001b[0mmatmul\u001b[0m\u001b[0;34m(\u001b[0m\u001b[0minputs\u001b[0m\u001b[0;34m,\u001b[0m \u001b[0mweights\u001b[0m\u001b[0;34m)\u001b[0m\u001b[0;34m)\u001b[0m\u001b[0;34m\u001b[0m\u001b[0;34m\u001b[0m\u001b[0m\n\u001b[0m",
      "\u001b[0;31mValueError\u001b[0m: matmul: Input operand 1 has a mismatch in its core dimension 0, with gufunc signature (n?,k),(k,m?)->(n?,m?) (size 3 is different from 4)"
     ]
    }
   ],
   "source": [
    "print(np.matmul(inputs, weights))"
   ]
  },
  {
   "cell_type": "markdown",
   "metadata": {},
   "source": [
    "This error of incompatible shapes is because the number of columns in the left matrix, ```4```, is not equal the number of rows in the right matrix, ```3```. <br>\n",
    "So that doesn't work, but notice if we take the transpose of the ```weights``` matrix, it will:"
   ]
  },
  {
   "cell_type": "code",
   "execution_count": 58,
   "metadata": {},
   "outputs": [
    {
     "name": "stdout",
     "output_type": "stream",
     "text": [
      "np.matmul(inputs, weights.T) = \n",
      " [[-0.01299  0.00664  0.13494]]\n"
     ]
    }
   ],
   "source": [
    "print(\"np.matmul(inputs, weights.T) = \\n\",np.matmul(inputs, weights.T))"
   ]
  },
  {
   "cell_type": "markdown",
   "metadata": {},
   "source": [
    "It also works if we take the transpose of inputs instead and swap their order"
   ]
  },
  {
   "cell_type": "code",
   "execution_count": 59,
   "metadata": {},
   "outputs": [
    {
     "name": "stdout",
     "output_type": "stream",
     "text": [
      "[[-0.01299]\n",
      " [ 0.00664]\n",
      " [ 0.13494]]\n"
     ]
    }
   ],
   "source": [
    "print(np.matmul(weights, inputs.T))"
   ]
  },
  {
   "cell_type": "markdown",
   "metadata": {},
   "source": [
    "The two answers are transposes of each other, so which multiplication we use really just depends on the shape we want for the output."
   ]
  },
  {
   "cell_type": "markdown",
   "metadata": {},
   "source": [
    "## Sorting, Subsetting, Slicing, Splitting and Indexing"
   ]
  },
  {
   "cell_type": "markdown",
   "metadata": {},
   "source": [
    "Data handling is one of the most important skills to have as a data scientist. NumPy provides a suite of data handling functions. We are going to look at a few of them here."
   ]
  },
  {
   "cell_type": "markdown",
   "metadata": {},
   "source": [
    "### Sorting"
   ]
  },
  {
   "cell_type": "markdown",
   "metadata": {},
   "source": [
    "To sort any NumPy array we use the ```np.sort``` function:"
   ]
  },
  {
   "cell_type": "code",
   "execution_count": 60,
   "metadata": {
    "scrolled": true
   },
   "outputs": [
    {
     "name": "stdout",
     "output_type": "stream",
     "text": [
      "[[ 7 32  1]\n",
      " [55  0 -6]\n",
      " [ 3 99 20]] \n",
      "\n",
      "[[ 1  7 32]\n",
      " [-6  0 55]\n",
      " [ 3 20 99]] \n",
      "\n",
      "[[ 1  7 32]\n",
      " [-6  0 55]\n",
      " [ 3 20 99]]\n"
     ]
    }
   ],
   "source": [
    "a = np.array([[7,32,1],[55,0,-6],[3,99,20]])\n",
    "print(a, \"\\n\")\n",
    "print(np.sort(a),\"\\n\")\n",
    "print(np.sort(a, axis =1))"
   ]
  },
  {
   "cell_type": "markdown",
   "metadata": {},
   "source": [
    "By default, the elements are sorted in ascending order with respect to the last dimension, which in this case is the column dimension. We can also sort the elements with respect to the rows."
   ]
  },
  {
   "cell_type": "code",
   "execution_count": 61,
   "metadata": {},
   "outputs": [
    {
     "name": "stdout",
     "output_type": "stream",
     "text": [
      "[[ 7 32  1]\n",
      " [55  0 -6]\n",
      " [ 3 99 20]] \n",
      "\n",
      "[[ 3  0 -6]\n",
      " [ 7 32  1]\n",
      " [55 99 20]]\n"
     ]
    }
   ],
   "source": [
    "print(a, \"\\n\")\n",
    "print(np.sort(a, axis = 0))"
   ]
  },
  {
   "attachments": {
    "axis.jpg": {
     "image/jpeg": "[encoded data removed]"
    }
   },
   "cell_type": "markdown",
   "metadata": {},
   "source": [
    "![axis.jpg](attachment:axis.jpg)"
   ]
  },
  {
   "cell_type": "markdown",
   "metadata": {},
   "source": [
    "We can also sort all the elements in a 1 dimensional array by setting ```axis``` to ```None```"
   ]
  },
  {
   "cell_type": "code",
   "execution_count": 62,
   "metadata": {},
   "outputs": [
    {
     "name": "stdout",
     "output_type": "stream",
     "text": [
      "[-6  0  1  3  7 20 32 55 99]\n"
     ]
    }
   ],
   "source": [
    "print(np.sort(a, axis=None))"
   ]
  },
  {
   "cell_type": "markdown",
   "metadata": {},
   "source": [
    "### Subsetting"
   ]
  },
  {
   "cell_type": "markdown",
   "metadata": {},
   "source": [
    "Just like sets in mathematics, ```ndarray```'s also have subsets. We will look at some possible subsets of a 2D array (matrix)"
   ]
  },
  {
   "cell_type": "code",
   "execution_count": 63,
   "metadata": {},
   "outputs": [
    {
     "name": "stdout",
     "output_type": "stream",
     "text": [
      "8\n",
      "8\n",
      "[1 2 3 4]\n",
      "[ 3  7 11]\n"
     ]
    }
   ],
   "source": [
    "a = np.array([[1,2,3,4],[5,6,7,8],[9,10,11,12]])\n",
    "print(a[1][3])\n",
    "print(a[1,3])\n",
    "print(a[0])\n",
    "print(a[:,2])"
   ]
  },
  {
   "cell_type": "markdown",
   "metadata": {},
   "source": [
    "Here, ```a[1][3]``` and ```a[1,3]``` both give the same output: The 4th element of the 2nd row; ```a[0]``` gives the entire 1st row where as ```a[:,2]``` gives all the row elements associated with the 3rd column. <br>\n",
    "It should be noted that all of these are considered as subsets of the array ```a```."
   ]
  },
  {
   "cell_type": "markdown",
   "metadata": {},
   "source": [
    "### Slicing"
   ]
  },
  {
   "cell_type": "markdown",
   "metadata": {},
   "source": [
    "Similar to subsetting, slicing allows us to extract certain portions of an array. For example"
   ]
  },
  {
   "cell_type": "code",
   "execution_count": 64,
   "metadata": {},
   "outputs": [
    {
     "name": "stdout",
     "output_type": "stream",
     "text": [
      "[0 1 2 3 4 5 6 7 8 9]\n",
      "[2 4 6 8]\n"
     ]
    }
   ],
   "source": [
    "a = np.arange(10) # a 1D array from 0 to 9\n",
    "print(a)\n",
    "s = slice(2,9,2)\n",
    "print(a[s])"
   ]
  },
  {
   "cell_type": "markdown",
   "metadata": {},
   "source": [
    "Here, the tuple (2,9,2) means that ```s``` should start with the value ```2```, end at value ```9``` and take steps of ```2``` to get to ```9```. Or we could simply write"
   ]
  },
  {
   "cell_type": "code",
   "execution_count": 65,
   "metadata": {},
   "outputs": [
    {
     "name": "stdout",
     "output_type": "stream",
     "text": [
      "[2 4 6 8]\n"
     ]
    }
   ],
   "source": [
    "s = a[2:9:2]\n",
    "print(s)"
   ]
  },
  {
   "cell_type": "markdown",
   "metadata": {},
   "source": [
    "In both of these examples, we have picked a certain slice of the original array ```a```."
   ]
  },
  {
   "cell_type": "markdown",
   "metadata": {},
   "source": [
    "We can also something like this"
   ]
  },
  {
   "cell_type": "code",
   "execution_count": 66,
   "metadata": {},
   "outputs": [
    {
     "name": "stdout",
     "output_type": "stream",
     "text": [
      "[9 8 7 6 5 4 3 2 1 0]\n"
     ]
    }
   ],
   "source": [
    "print(a[::-1])"
   ]
  },
  {
   "cell_type": "markdown",
   "metadata": {},
   "source": [
    "Here ```-1``` indicates the reverse order."
   ]
  },
  {
   "cell_type": "markdown",
   "metadata": {},
   "source": [
    "### Indexing"
   ]
  },
  {
   "cell_type": "markdown",
   "metadata": {},
   "source": [
    "Although we have already seen indexing at work, there are a few things worth mentioning to develop a better intuition about how NumPy arrays, and to the extent, how tensors in TensorFlow can be handled."
   ]
  },
  {
   "cell_type": "code",
   "execution_count": 67,
   "metadata": {},
   "outputs": [
    {
     "name": "stdout",
     "output_type": "stream",
     "text": [
      "[6 7 8 9]\n"
     ]
    }
   ],
   "source": [
    "print(a[a>5])"
   ]
  },
  {
   "cell_type": "markdown",
   "metadata": {},
   "source": [
    "In the above example, known as boolean indexing, we put a condition on ```a```'s elements of being greater than 5. This kind of conditional filtering also proves helpful sometimes."
   ]
  },
  {
   "cell_type": "markdown",
   "metadata": {},
   "source": [
    "There is depth to the overall working of the NumPy stack in Python, but for the horizon of our course, this much would suffice. <br>\n",
    "### Thank you ."
   ]
  }
 ],
 "metadata": {
  "kernelspec": {
   "display_name": "Python 3",
   "language": "python",
   "name": "python3"
  },
  "language_info": {
   "codemirror_mode": {
    "name": "ipython",
    "version": 3
   },
   "file_extension": ".py",
   "mimetype": "text/x-python",
   "name": "python",
   "nbconvert_exporter": "python",
   "pygments_lexer": "ipython3",
   "version": "3.6.8"
  }
 },
 "nbformat": 4,
 "nbformat_minor": 2
}
